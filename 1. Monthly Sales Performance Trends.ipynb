{
 "cells": [
  {
   "cell_type": "markdown",
   "id": "48e87f15-c355-421b-86da-1ad86d2108c3",
   "metadata": {},
   "source": [
    "#  Data Exploration and Descriptive Summary "
   ]
  },
  {
   "cell_type": "markdown",
   "id": "2585eb12-6dec-49b5-a85a-2608adbcc2e0",
   "metadata": {},
   "source": [
    "## Monthly Sales Performance Trends"
   ]
  },
  {
   "cell_type": "markdown",
   "id": "a917f5c2-214a-4591-9698-6aab0012329c",
   "metadata": {},
   "source": [
    "## Which month achieved the highest total sales, and what was the total sales figure recorded during that period?"
   ]
  },
  {
   "cell_type": "markdown",
   "id": "d6b2f8c1-4262-44ad-ad60-a22c2971adcd",
   "metadata": {
    "jp-MarkdownHeadingCollapsed": true
   },
   "source": [
    "### 1. Overview\n",
    "\n",
    "This analysis aims to explore and visualize monthly sales trends to uncover insights\n",
    "into the temporal dynamics of business performance.By identifying the month with the\n",
    "highest total sales, stakeholders can make informed strategic decisions such as\n",
    "aligning marketing campaigns, inventory planning, and promotional activities with\n",
    "high-performing periods. Through an engaging bar chart visualization, this report transforms\n",
    "raw transactional data into a powerful narrative of revenue trends across the year."
   ]
  },
  {
   "cell_type": "markdown",
   "id": "ce666d2a-d8d6-4c7c-8f11-8d2a35f8e254",
   "metadata": {},
   "source": [
    "### 2. Goal\n",
    "\n",
    "- To conduct an exploratory data analysis (EDA) focused on monthly sales performance.\n",
    "- To identify which month generated the highest total sales.\n",
    "- To derive actionable insights that can support data-driven decision-making and improve business strategy."
   ]
  },
  {
   "cell_type": "markdown",
   "id": "db891fb6-116e-4843-a1f2-6eee12f3e8d8",
   "metadata": {},
   "source": [
    "### 3. Business Challenge\n",
    "\n",
    "- Lack of visibility into monthly sales patterns hampers effective planning and resource allocation.\n",
    "- The business struggles to identify peak and off-peak sales months, limiting its ability to optimize\n",
    "  promotional efforts and inventory cycles.\n",
    "- Without clarity on seasonal sales trends, forecasting, and budgeting remain reactive rather than proactive.\n",
    "- Decision-makers lack concrete evidence to justify strategic timing for marketing or product rollouts"
   ]
  },
  {
   "cell_type": "markdown",
   "id": "ec92f195-982d-439f-87a0-24821fa220d0",
   "metadata": {
    "jp-MarkdownHeadingCollapsed": true
   },
   "source": [
    "### 4. Analysis Approach\n",
    "\n",
    "- Clean, preprocess, and aggregate sales data by month.\n",
    "- Visualize monthly sales using an intuitive bar chart to enhance interpretability.\n",
    "- Use visual storytelling and formatted labels to make the insights easily digestible for both technical and non-technical stakeholders.\n",
    "- Share recommendations based on findings to optimize business planning and improve revenue targeting."
   ]
  },
  {
   "cell_type": "markdown",
   "id": "841dbc24-17f2-4c08-b8ab-1e476a1ad22c",
   "metadata": {},
   "source": [
    "## Importing libraries"
   ]
  },
  {
   "cell_type": "code",
   "execution_count": 9,
   "id": "48a8b6e1-fd87-4990-b226-3f906646b056",
   "metadata": {},
   "outputs": [],
   "source": [
    "import pandas as pd\n",
    "import matplotlib.pyplot as plt\n",
    "import matplotlib.ticker as tick"
   ]
  },
  {
   "cell_type": "markdown",
   "id": "927024fb-df52-42dd-8a2f-6e0ed4d07b0e",
   "metadata": {},
   "source": [
    "## Loading the clean dataframe (post-ETL process)"
   ]
  },
  {
   "cell_type": "code",
   "execution_count": 11,
   "id": "6eae302b-e6fb-4fdb-8786-a725a4e89eb8",
   "metadata": {},
   "outputs": [],
   "source": [
    "df = pd.read_csv(\"C:\\\\Monthly_Sales\\\\cleaned_data.csv\")"
   ]
  },
  {
   "cell_type": "code",
   "execution_count": 12,
   "id": "e550d8c7-3b4d-4f86-bb24-9c78bca5b9c3",
   "metadata": {},
   "outputs": [
    {
     "data": {
      "text/html": [
       "<div>\n",
       "<style scoped>\n",
       "    .dataframe tbody tr th:only-of-type {\n",
       "        vertical-align: middle;\n",
       "    }\n",
       "\n",
       "    .dataframe tbody tr th {\n",
       "        vertical-align: top;\n",
       "    }\n",
       "\n",
       "    .dataframe thead th {\n",
       "        text-align: right;\n",
       "    }\n",
       "</style>\n",
       "<table border=\"1\" class=\"dataframe\">\n",
       "  <thead>\n",
       "    <tr style=\"text-align: right;\">\n",
       "      <th></th>\n",
       "      <th>Order ID</th>\n",
       "      <th>Product Name</th>\n",
       "      <th>Units Purchased</th>\n",
       "      <th>Unit Price</th>\n",
       "      <th>Order Date</th>\n",
       "      <th>Delivery Address</th>\n",
       "      <th>Month</th>\n",
       "      <th>Month Name</th>\n",
       "      <th>Year</th>\n",
       "      <th>Day of Week</th>\n",
       "      <th>Hour</th>\n",
       "      <th>City</th>\n",
       "      <th>Total Sales</th>\n",
       "    </tr>\n",
       "  </thead>\n",
       "  <tbody>\n",
       "    <tr>\n",
       "      <th>0</th>\n",
       "      <td>160155</td>\n",
       "      <td>Alienware Monitor</td>\n",
       "      <td>1</td>\n",
       "      <td>400.99</td>\n",
       "      <td>2024-01-01 05:04:00</td>\n",
       "      <td>765 Ridge St, Portland, OR 97035</td>\n",
       "      <td>1</td>\n",
       "      <td>January</td>\n",
       "      <td>2024</td>\n",
       "      <td>Mon</td>\n",
       "      <td>5</td>\n",
       "      <td>Portland  (OR)</td>\n",
       "      <td>400.99</td>\n",
       "    </tr>\n",
       "    <tr>\n",
       "      <th>1</th>\n",
       "      <td>151041</td>\n",
       "      <td>AAA Batteries (4-pack)</td>\n",
       "      <td>1</td>\n",
       "      <td>4.99</td>\n",
       "      <td>2024-01-01 05:04:00</td>\n",
       "      <td>964 Lakeview St, Atlanta, GA 30301</td>\n",
       "      <td>1</td>\n",
       "      <td>January</td>\n",
       "      <td>2024</td>\n",
       "      <td>Mon</td>\n",
       "      <td>5</td>\n",
       "      <td>Atlanta  (GA)</td>\n",
       "      <td>4.99</td>\n",
       "    </tr>\n",
       "    <tr>\n",
       "      <th>2</th>\n",
       "      <td>146765</td>\n",
       "      <td>AAA Batteries (4-pack)</td>\n",
       "      <td>1</td>\n",
       "      <td>4.99</td>\n",
       "      <td>2024-01-01 05:20:00</td>\n",
       "      <td>546 10th St, San Francisco, CA 94016</td>\n",
       "      <td>1</td>\n",
       "      <td>January</td>\n",
       "      <td>2024</td>\n",
       "      <td>Mon</td>\n",
       "      <td>5</td>\n",
       "      <td>San Francisco  (CA)</td>\n",
       "      <td>4.99</td>\n",
       "    </tr>\n",
       "    <tr>\n",
       "      <th>3</th>\n",
       "      <td>145617</td>\n",
       "      <td>Amana Washing Machine</td>\n",
       "      <td>1</td>\n",
       "      <td>600.00</td>\n",
       "      <td>2024-01-01 05:24:00</td>\n",
       "      <td>961 Meadow St, Portland, OR 97035</td>\n",
       "      <td>1</td>\n",
       "      <td>January</td>\n",
       "      <td>2024</td>\n",
       "      <td>Mon</td>\n",
       "      <td>5</td>\n",
       "      <td>Portland  (OR)</td>\n",
       "      <td>600.00</td>\n",
       "    </tr>\n",
       "    <tr>\n",
       "      <th>4</th>\n",
       "      <td>156535</td>\n",
       "      <td>Lightning Charging Cable</td>\n",
       "      <td>2</td>\n",
       "      <td>14.95</td>\n",
       "      <td>2024-01-01 05:45:00</td>\n",
       "      <td>451 Elm St, Los Angeles, CA 90001</td>\n",
       "      <td>1</td>\n",
       "      <td>January</td>\n",
       "      <td>2024</td>\n",
       "      <td>Mon</td>\n",
       "      <td>5</td>\n",
       "      <td>Los Angeles  (CA)</td>\n",
       "      <td>29.90</td>\n",
       "    </tr>\n",
       "  </tbody>\n",
       "</table>\n",
       "</div>"
      ],
      "text/plain": [
       "   Order ID              Product Name  Units Purchased  Unit Price  \\\n",
       "0    160155         Alienware Monitor                1      400.99   \n",
       "1    151041    AAA Batteries (4-pack)                1        4.99   \n",
       "2    146765    AAA Batteries (4-pack)                1        4.99   \n",
       "3    145617     Amana Washing Machine                1      600.00   \n",
       "4    156535  Lightning Charging Cable                2       14.95   \n",
       "\n",
       "            Order Date                      Delivery Address  Month  \\\n",
       "0  2024-01-01 05:04:00      765 Ridge St, Portland, OR 97035      1   \n",
       "1  2024-01-01 05:04:00    964 Lakeview St, Atlanta, GA 30301      1   \n",
       "2  2024-01-01 05:20:00  546 10th St, San Francisco, CA 94016      1   \n",
       "3  2024-01-01 05:24:00     961 Meadow St, Portland, OR 97035      1   \n",
       "4  2024-01-01 05:45:00     451 Elm St, Los Angeles, CA 90001      1   \n",
       "\n",
       "  Month Name  Year Day of Week  Hour                 City  Total Sales  \n",
       "0    January  2024         Mon     5       Portland  (OR)       400.99  \n",
       "1    January  2024         Mon     5        Atlanta  (GA)         4.99  \n",
       "2    January  2024         Mon     5  San Francisco  (CA)         4.99  \n",
       "3    January  2024         Mon     5       Portland  (OR)       600.00  \n",
       "4    January  2024         Mon     5    Los Angeles  (CA)        29.90  "
      ]
     },
     "execution_count": 12,
     "metadata": {},
     "output_type": "execute_result"
    }
   ],
   "source": [
    "df.head()"
   ]
  },
  {
   "cell_type": "code",
   "execution_count": 13,
   "id": "0c16f86c-ac20-4c77-bc1c-2e9a774a0b80",
   "metadata": {},
   "outputs": [
    {
     "data": {
      "text/plain": [
       "(171780, 13)"
      ]
     },
     "execution_count": 13,
     "metadata": {},
     "output_type": "execute_result"
    }
   ],
   "source": [
    "df.shape"
   ]
  },
  {
   "cell_type": "markdown",
   "id": "32e44a6e-d913-4f0c-9ee5-a2a6941a22dd",
   "metadata": {},
   "source": [
    "## Month and its corresponding sales figure."
   ]
  },
  {
   "cell_type": "code",
   "execution_count": 15,
   "id": "4e07c632-b18f-4d23-9a37-ef580b725c3a",
   "metadata": {},
   "outputs": [
    {
     "data": {
      "text/plain": [
       "Month\n",
       "1     4643726.50\n",
       "2     1235808.22\n",
       "3     2360571.99\n",
       "4     2621378.14\n",
       "5     2658910.61\n",
       "6     3409702.73\n",
       "7     2990650.83\n",
       "8     3144247.72\n",
       "9     2371339.60\n",
       "10    1760284.20\n",
       "11    5746819.31\n",
       "12    6412321.59\n",
       "Name: Total Sales, dtype: float64"
      ]
     },
     "execution_count": 15,
     "metadata": {},
     "output_type": "execute_result"
    }
   ],
   "source": [
    "monthly_sales = df.groupby('Month')['Total Sales'].sum() \n",
    "monthly_sales "
   ]
  },
  {
   "cell_type": "markdown",
   "id": "82344df1-7354-4833-8b2f-8612c592f85a",
   "metadata": {},
   "source": [
    "## Plotting Monthly Sales"
   ]
  },
  {
   "cell_type": "code",
   "execution_count": 17,
   "id": "bd07cf8c-5f58-41d9-ae31-aed5a046d203",
   "metadata": {},
   "outputs": [
    {
     "data": {
      "image/png": "[encoded data removed]",
      "text/plain": [
       "<Figure size 640x480 with 1 Axes>"
      ]
     },
     "metadata": {},
     "output_type": "display_data"
    }
   ],
   "source": [
    "# Grouping by Month\n",
    "monthly_sales = df.groupby(df['Month Name'])['Total Sales'].sum()\n",
    "\n",
    "# Sorting Months Chronologically\n",
    "month_order = ['January', 'February', 'March','April','May', 'June', 'July', 'August', 'September', 'October', 'November', 'December']\n",
    "monthly_sales = monthly_sales.reindex(month_order)\n",
    "\n",
    "\n",
    "# Plotting\n",
    "ax = monthly_sales.plot(kind='bar', title=\"Monthly Sales\")\n",
    "\n",
    "ax.set_xlabel('Month number')\n",
    "ax.set_ylabel('Total Sales in USD ($)')\n",
    "\n",
    "# Formatting the y-axis with comma separators\n",
    "ax.get_yaxis().set_major_formatter(plt.FuncFormatter(lambda x, _: f'{int(x):,}'))\n",
    "\n",
    "plt.xticks(rotation=90)\n",
    "plt.grid(linewidth=0.1)\n",
    "\n",
    "plt.savefig(r\"C:/Users/DELL/OneDrive - COVENANT UNIVERSITY/Desktop/1. Retail Sales Analysis and Insights/1. Monthly Sales Performance Trends.png\", dpi=300, bbox_inches='tight')\n",
    "\n",
    "plt.show()"
   ]
  },
  {
   "cell_type": "markdown",
   "id": "0a36551b-df69-4ea6-ac8e-8f5df5a0bd87",
   "metadata": {
    "jp-MarkdownHeadingCollapsed": true
   },
   "source": [
    "## Key Insights \n",
    "\n",
    "1. December recorded the highest total sales, with a revenue of $6,412,321.59, making it the most profitable month of the year.\n",
    "  \n",
    "2. November followed as the second-highest month with $5,746,819.31, indicating a strong year-end sales trend.\n",
    "\n",
    "3. February was the weakest month, with the lowest total sales of $1,235,808.22.\n",
    "\n",
    "A noticeable sales surge begins from June onward, suggesting a buildup toward the end-of-year peak."
   ]
  },
  {
   "cell_type": "markdown",
   "id": "27925537-96ed-437f-86c7-38c2801d0f4e",
   "metadata": {},
   "source": [
    "##  Strategic Recommendations \n",
    "\n",
    "1. Capitalize on Q4 sales momentum: Invest heavily in marketing, promotions, and inventory during November and December,\n",
    "  as these months are proven high performers—likely driven by holidays, year-end bonuses, and seasonal demand.\n",
    "\n",
    "2. Launch pre-holiday campaigns starting Q3 (around July–September) to create demand early and ride the momentum.\n",
    "\n",
    "3. Investigate low performance in February: Look into potential causes\n",
    "  (example, post-holiday fatigue, customer spending behavior, or operational lags) and \n",
    "  explore strategies like targeted promotions or loyalty incentives to boost engagement.\n",
    "\n",
    "4. Use seasonality to guide forecasting: Align production, staffing, and budget planning with high\n",
    "  and low-performing months for optimized operations and cost efficiency."
   ]
  }
 ],
 "metadata": {
  "kernelspec": {
   "display_name": "Python [conda env:base] *",
   "language": "python",
   "name": "conda-base-py"
  },
  "language_info": {
   "codemirror_mode": {
    "name": "ipython",
    "version": 3
   },
   "file_extension": ".py",
   "mimetype": "text/x-python",
   "name": "python",
   "nbconvert_exporter": "python",
   "pygments_lexer": "ipython3",
   "version": "3.12.7"
  }
 },
 "nbformat": 4,
 "nbformat_minor": 5
}
