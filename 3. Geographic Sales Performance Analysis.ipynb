{
 "cells": [
  {
   "cell_type": "markdown",
   "id": "48e87f15-c355-421b-86da-1ad86d2108c3",
   "metadata": {},
   "source": [
    "# Exploratory Data Analysis (EDA): Understanding the Sales Landscape"
   ]
  },
  {
   "cell_type": "markdown",
   "id": "d637d926-fe82-46d2-a798-76bffec45e5b",
   "metadata": {
    "jp-MarkdownHeadingCollapsed": true
   },
   "source": [
    "## Geographic Sales Performance Analysis"
   ]
  },
  {
   "cell_type": "markdown",
   "id": "34f81004-6840-4cc6-92c9-7872555c3232",
   "metadata": {},
   "source": [
    "##  Which city achieved the highest total sales, and what was the total sales amount for that city?"
   ]
  },
  {
   "cell_type": "markdown",
   "id": "a4a810b5-66cd-4495-8fb6-6a6fcb5e5bd9",
   "metadata": {},
   "source": [
    "### 1. Overview\n",
    "\n",
    "This analysis explores geographic sales performance across multiple cities using exploratory data analysis (EDA). By aggregating total sales figures city-wise, we aim to uncover which city contributed the highest to the overall revenue. Visualizing this information not only provides insights into regional performance but also supports strategic decisions for resource allocation, marketing investment, and operational optimization."
   ]
  },
  {
   "cell_type": "markdown",
   "id": "448a95bb-0873-4e9a-95f1-5891b4c0005a",
   "metadata": {},
   "source": [
    "### 2. Goal \n",
    "\n",
    "- Identify the city with the highest total sales.\n",
    "- Quantify the total sales amount associated with each city.\n",
    "- Visualize sales distribution across cities using an intuitive bar chart.\n",
    "- Support business strategy through location-based performance insights."
   ]
  },
  {
   "cell_type": "markdown",
   "id": "82d76196-c6f9-4962-99f0-ba129bbc8810",
   "metadata": {},
   "source": [
    "### 3. Business Challenge\n",
    "\n",
    "- Sales performance is uneven across regions, and decision-makers lack clarity on high-performing cities.\n",
    "- Without clear geographic insights, marketing and inventory investments may be misaligned.\n",
    "- Limited visibility into revenue contribution by location may affect expansion or scaling plans."
   ]
  },
  {
   "cell_type": "markdown",
   "id": "8c425ce4-0935-4603-ac94-3cd938874527",
   "metadata": {},
   "source": [
    "### 4. Analysis Approach\n",
    "\n",
    "- Load and preprocess the dataset to ensure accurate and complete data.\n",
    "- Group sales data by city and compute total sales for each location.\n",
    "- Visualize the data using a bar chart to highlight the top-performing city.\n",
    "- Format the chart for readability and presentation (currency formatting, labels, and grid).\n",
    "- Derive insights from the chart and apply them to inform business decisions."
   ]
  },
  {
   "cell_type": "markdown",
   "id": "fa0e773b-aeb0-4295-80c4-c3742d420068",
   "metadata": {},
   "source": [
    "## Importing libraries"
   ]
  },
  {
   "cell_type": "code",
   "execution_count": 9,
   "id": "48a8b6e1-fd87-4990-b226-3f906646b056",
   "metadata": {},
   "outputs": [],
   "source": [
    "import pandas as pd\n",
    "import matplotlib.pyplot as plt"
   ]
  },
  {
   "cell_type": "markdown",
   "id": "8b8878ad-0493-41a2-a3b6-2ea2f156a696",
   "metadata": {},
   "source": [
    "##  Loading the clean dataframe (post-ETL process)"
   ]
  },
  {
   "cell_type": "code",
   "execution_count": 11,
   "id": "55496514-0298-437c-ada2-ae04dd45cf87",
   "metadata": {},
   "outputs": [],
   "source": [
    "df = pd.read_csv(\"C:\\\\Monthly_Sales\\\\cleaned_data.csv\")"
   ]
  },
  {
   "cell_type": "code",
   "execution_count": 12,
   "id": "8274e97e-5b82-41ac-8313-0ce132d837a9",
   "metadata": {},
   "outputs": [
    {
     "data": {
      "text/html": [
       "<div>\n",
       "<style scoped>\n",
       "    .dataframe tbody tr th:only-of-type {\n",
       "        vertical-align: middle;\n",
       "    }\n",
       "\n",
       "    .dataframe tbody tr th {\n",
       "        vertical-align: top;\n",
       "    }\n",
       "\n",
       "    .dataframe thead th {\n",
       "        text-align: right;\n",
       "    }\n",
       "</style>\n",
       "<table border=\"1\" class=\"dataframe\">\n",
       "  <thead>\n",
       "    <tr style=\"text-align: right;\">\n",
       "      <th></th>\n",
       "      <th>Order ID</th>\n",
       "      <th>Product Name</th>\n",
       "      <th>Units Purchased</th>\n",
       "      <th>Unit Price</th>\n",
       "      <th>Order Date</th>\n",
       "      <th>Delivery Address</th>\n",
       "      <th>Month</th>\n",
       "      <th>Month Name</th>\n",
       "      <th>Year</th>\n",
       "      <th>Day of Week</th>\n",
       "      <th>Hour</th>\n",
       "      <th>City</th>\n",
       "      <th>Total Sales</th>\n",
       "    </tr>\n",
       "  </thead>\n",
       "  <tbody>\n",
       "    <tr>\n",
       "      <th>0</th>\n",
       "      <td>160155</td>\n",
       "      <td>Alienware Monitor</td>\n",
       "      <td>1</td>\n",
       "      <td>400.99</td>\n",
       "      <td>2024-01-01 05:04:00</td>\n",
       "      <td>765 Ridge St, Portland, OR 97035</td>\n",
       "      <td>1</td>\n",
       "      <td>January</td>\n",
       "      <td>2024</td>\n",
       "      <td>Mon</td>\n",
       "      <td>5</td>\n",
       "      <td>Portland  (OR)</td>\n",
       "      <td>400.99</td>\n",
       "    </tr>\n",
       "    <tr>\n",
       "      <th>1</th>\n",
       "      <td>151041</td>\n",
       "      <td>AAA Batteries (4-pack)</td>\n",
       "      <td>1</td>\n",
       "      <td>4.99</td>\n",
       "      <td>2024-01-01 05:04:00</td>\n",
       "      <td>964 Lakeview St, Atlanta, GA 30301</td>\n",
       "      <td>1</td>\n",
       "      <td>January</td>\n",
       "      <td>2024</td>\n",
       "      <td>Mon</td>\n",
       "      <td>5</td>\n",
       "      <td>Atlanta  (GA)</td>\n",
       "      <td>4.99</td>\n",
       "    </tr>\n",
       "    <tr>\n",
       "      <th>2</th>\n",
       "      <td>146765</td>\n",
       "      <td>AAA Batteries (4-pack)</td>\n",
       "      <td>1</td>\n",
       "      <td>4.99</td>\n",
       "      <td>2024-01-01 05:20:00</td>\n",
       "      <td>546 10th St, San Francisco, CA 94016</td>\n",
       "      <td>1</td>\n",
       "      <td>January</td>\n",
       "      <td>2024</td>\n",
       "      <td>Mon</td>\n",
       "      <td>5</td>\n",
       "      <td>San Francisco  (CA)</td>\n",
       "      <td>4.99</td>\n",
       "    </tr>\n",
       "    <tr>\n",
       "      <th>3</th>\n",
       "      <td>145617</td>\n",
       "      <td>Amana Washing Machine</td>\n",
       "      <td>1</td>\n",
       "      <td>600.00</td>\n",
       "      <td>2024-01-01 05:24:00</td>\n",
       "      <td>961 Meadow St, Portland, OR 97035</td>\n",
       "      <td>1</td>\n",
       "      <td>January</td>\n",
       "      <td>2024</td>\n",
       "      <td>Mon</td>\n",
       "      <td>5</td>\n",
       "      <td>Portland  (OR)</td>\n",
       "      <td>600.00</td>\n",
       "    </tr>\n",
       "    <tr>\n",
       "      <th>4</th>\n",
       "      <td>156535</td>\n",
       "      <td>Lightning Charging Cable</td>\n",
       "      <td>2</td>\n",
       "      <td>14.95</td>\n",
       "      <td>2024-01-01 05:45:00</td>\n",
       "      <td>451 Elm St, Los Angeles, CA 90001</td>\n",
       "      <td>1</td>\n",
       "      <td>January</td>\n",
       "      <td>2024</td>\n",
       "      <td>Mon</td>\n",
       "      <td>5</td>\n",
       "      <td>Los Angeles  (CA)</td>\n",
       "      <td>29.90</td>\n",
       "    </tr>\n",
       "  </tbody>\n",
       "</table>\n",
       "</div>"
      ],
      "text/plain": [
       "   Order ID              Product Name  Units Purchased  Unit Price  \\\n",
       "0    160155         Alienware Monitor                1      400.99   \n",
       "1    151041    AAA Batteries (4-pack)                1        4.99   \n",
       "2    146765    AAA Batteries (4-pack)                1        4.99   \n",
       "3    145617     Amana Washing Machine                1      600.00   \n",
       "4    156535  Lightning Charging Cable                2       14.95   \n",
       "\n",
       "            Order Date                      Delivery Address  Month  \\\n",
       "0  2024-01-01 05:04:00      765 Ridge St, Portland, OR 97035      1   \n",
       "1  2024-01-01 05:04:00    964 Lakeview St, Atlanta, GA 30301      1   \n",
       "2  2024-01-01 05:20:00  546 10th St, San Francisco, CA 94016      1   \n",
       "3  2024-01-01 05:24:00     961 Meadow St, Portland, OR 97035      1   \n",
       "4  2024-01-01 05:45:00     451 Elm St, Los Angeles, CA 90001      1   \n",
       "\n",
       "  Month Name  Year Day of Week  Hour                 City  Total Sales  \n",
       "0    January  2024         Mon     5       Portland  (OR)       400.99  \n",
       "1    January  2024         Mon     5        Atlanta  (GA)         4.99  \n",
       "2    January  2024         Mon     5  San Francisco  (CA)         4.99  \n",
       "3    January  2024         Mon     5       Portland  (OR)       600.00  \n",
       "4    January  2024         Mon     5    Los Angeles  (CA)        29.90  "
      ]
     },
     "execution_count": 12,
     "metadata": {},
     "output_type": "execute_result"
    }
   ],
   "source": [
    "df.head()"
   ]
  },
  {
   "cell_type": "markdown",
   "id": "b24c2a6b-ebb4-40b9-8bcc-d00f01da30f1",
   "metadata": {},
   "source": [
    "## Replacing 'Boston  (\\rA)' with 'Boston  (MA)'"
   ]
  },
  {
   "cell_type": "code",
   "execution_count": 14,
   "id": "bd41a3f0-bb84-48dc-91e6-6ba5b668e0db",
   "metadata": {},
   "outputs": [],
   "source": [
    "import re\n",
    "\n",
    "df['City'] = df['City'].str.replace(r'Boston\\s+\\(\\rA\\)', 'Boston  (MA)', regex=True)"
   ]
  },
  {
   "cell_type": "markdown",
   "id": "08072fc1-17b9-49ef-9715-cd8572bc0e02",
   "metadata": {},
   "source": [
    "## Total Sales for each City"
   ]
  },
  {
   "cell_type": "code",
   "execution_count": 16,
   "id": "262a55b2-596f-4ac9-92da-54e6fb558145",
   "metadata": {},
   "outputs": [
    {
     "data": {
      "text/plain": [
       "City\n",
       "Atlanta  (GA)          3146660.06\n",
       "Austin  (TX)           2182210.62\n",
       "Boston  (MA)           4169731.86\n",
       "Dallas  (TX)           3195316.61\n",
       "Los Angeles  (CA)      6347340.83\n",
       "New York City  (NY)    5206533.98\n",
       "Portland  (ME)          543656.46\n",
       "Portland  (OR)         2053496.39\n",
       "San Francisco  (CA)    9395524.82\n",
       "Seattle  (WA)          3115289.81\n",
       "Name: Total Sales, dtype: float64"
      ]
     },
     "execution_count": 16,
     "metadata": {},
     "output_type": "execute_result"
    }
   ],
   "source": [
    "City_sales = df.groupby('City', observed=False)['Total Sales'].sum()\n",
    "City_sales"
   ]
  },
  {
   "cell_type": "markdown",
   "id": "e4e7e2c1-8e38-4d5d-b2d8-dc888a35a479",
   "metadata": {},
   "source": [
    "## Plotting Sales by City"
   ]
  },
  {
   "cell_type": "code",
   "execution_count": 18,
   "id": "be00cc8d-4028-483d-a3c3-4c0bac1a95e0",
   "metadata": {},
   "outputs": [
    {
     "data": {
      "image/png": "[encoded data removed]",
      "text/plain": [
       "<Figure size 640x480 with 1 Axes>"
      ]
     },
     "metadata": {},
     "output_type": "display_data"
    }
   ],
   "source": [
    "import matplotlib.ticker as ticker\n",
    "\n",
    "ax = City_sales.plot(kind='bar', title=\"City Sales\")\n",
    "\n",
    "ax.set_xlabel('City')\n",
    "ax.set_ylabel('Total Sales in USD ($)')\n",
    "\n",
    "ax.get_yaxis().set_major_formatter(plt.FuncFormatter(lambda x, _: f'{int(x):,}'))\n",
    "\n",
    "plt.grid(linewidth=0.1)\n",
    "\n",
    "plt.savefig(r\"C:/Users/DELL/OneDrive - COVENANT UNIVERSITY/Desktop/1. Retail Sales Analysis and Insights/3. Geographic Sales Analysis.png\", dpi=300, bbox_inches='tight')\n",
    "\n",
    "plt.show()"
   ]
  },
  {
   "cell_type": "markdown",
   "id": "57972302-35e2-454d-8518-a94c281cdf9e",
   "metadata": {},
   "source": [
    "## Key Insights\n",
    "\n",
    "1. San Francisco (CA) recorded the highest total sales, pulling in approximately $9.40M, significantly outpacing all other cities.\n",
    "\n",
    "2. Los Angeles (CA) and New York City (NY) followed with $6.35M and $5.21M respectively, making California and New York powerhouses of revenue generation.\n",
    "\n",
    "3. Portland (ME) posted the lowest total sales at $543K, over 17 times lower than San Francisco.\n",
    "\n",
    "There is a notable performance gap between top-tier and mid/lower-tier cities. Cities like Austin (TX), Portland (OR), and Seattle (WA) are in the mid-range, suggesting room for growth."
   ]
  },
  {
   "cell_type": "markdown",
   "id": "c18ad575-3ec0-4922-a7fe-fe68334c14e0",
   "metadata": {},
   "source": [
    "## Strategic Recommendations\n",
    "\n",
    "1. Double Down on High-Performing Cities: Focus marketing spend and promotions in San Francisco, LA, and NYC, these cities are already strong, and pushing further can yield compounding gains.\n",
    "\n",
    "2. Analyze Seasonal Trends: Investigate month-by-month growth patterns to pinpoint peak sales months, then align product launches and campaigns with those windows.\n",
    "\n",
    "3. Activate Underperforming Markets: Design city-specific campaigns to boost engagement in Portland (ME) and Austin (TX) — consider pricing tweaks, localized offers, or market research.\n",
    "\n",
    "4. Segment Customers by Region: Perform deeper customer segmentation to uncover regional preferences — what works in SF might flop in Portland.\n",
    "\n",
    "5. Forecast Sales Using Monthly Trends: Build a monthly forecasting model to proactively manage supply chain, inventory, and budgeting — reducing waste and maximizing responsiveness."
   ]
  },
  {
   "cell_type": "code",
   "execution_count": null,
   "id": "c5155965-2ebd-460a-8baa-88e45d6f13c1",
   "metadata": {},
   "outputs": [],
   "source": []
  }
 ],
 "metadata": {
  "kernelspec": {
   "display_name": "Python [conda env:base] *",
   "language": "python",
   "name": "conda-base-py"
  },
  "language_info": {
   "codemirror_mode": {
    "name": "ipython",
    "version": 3
   },
   "file_extension": ".py",
   "mimetype": "text/x-python",
   "name": "python",
   "nbconvert_exporter": "python",
   "pygments_lexer": "ipython3",
   "version": "3.12.7"
  }
 },
 "nbformat": 4,
 "nbformat_minor": 5
}
