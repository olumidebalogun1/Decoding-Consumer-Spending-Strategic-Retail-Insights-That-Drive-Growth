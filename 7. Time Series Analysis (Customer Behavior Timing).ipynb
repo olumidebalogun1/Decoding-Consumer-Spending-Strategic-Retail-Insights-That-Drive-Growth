{
 "cells": [
  {
   "cell_type": "markdown",
   "id": "48e87f15-c355-421b-86da-1ad86d2108c3",
   "metadata": {},
   "source": [
    "# Machine Learning for Predictive Targeting "
   ]
  },
  {
   "cell_type": "markdown",
   "id": "2fdb8c13-0d85-4832-a386-625341724487",
   "metadata": {},
   "source": [
    "## Time Series Analysis: Uncovering Customer Purchase Patterns Over Time"
   ]
  },
  {
   "cell_type": "markdown",
   "id": "60c28e14-9249-4bbc-ba4b-ee750ec4d2fe",
   "metadata": {},
   "source": [
    "## What is the optimal timing for advertisements and promotions to maximize customer purchases, based on historical purchase behavior?"
   ]
  },
  {
   "cell_type": "markdown",
   "id": "10bdfe77-f9fd-4dae-a048-6c109cd4e224",
   "metadata": {},
   "source": [
    "### 1. Overview\n",
    "This project leverages time series analysis to examine customer purchase behavior throughout the day. By identifying hourly purchase trends from historical data, we aim to determine the most effective times for deploying targeted advertisements and promotional campaigns. The findings will help optimize marketing strategies, align outreach with peak customer activity, and drive revenue growth through smarter engagement timing."
   ]
  },
  {
   "cell_type": "markdown",
   "id": "40498531-04a8-4a51-bdc6-d8b6de3abbdf",
   "metadata": {},
   "source": [
    "### 2. Goal\n",
    "\n",
    "- Determine the hourly purchase trends based on historical transaction data.\n",
    "- Identify peak hours when customers are most likely to make purchases.\n",
    "- Recommend the best timeframes to run ads and promotions for maximum impact.\n",
    "- Provide actionable insights for marketing and sales optimization strategies."
   ]
  },
  {
   "cell_type": "markdown",
   "id": "8fb51024-6bcc-46cd-b4a0-2c3b6df54b87",
   "metadata": {},
   "source": [
    "### 3. Business Challenge\n",
    "\n",
    "- Uncertainty about the most effective times to reach customers.\n",
    "- Low engagement or conversion rates from untargeted promotions.\n",
    "- Missed revenue opportunities due to poor timing of marketing efforts.\n",
    "- Limited insight into customer behavioral patterns throughout the day."
   ]
  },
  {
   "cell_type": "markdown",
   "id": "9ccf0269-9b66-4eea-b041-075083ae3670",
   "metadata": {
    "jp-MarkdownHeadingCollapsed": true
   },
   "source": [
    "###  4. Analysis Approach\n",
    "\n",
    "- Utilize historical transaction data to group and count purchases by hour.\n",
    "- Visualize hourly trends using time series plotting to highlight patterns.\n",
    "- Identify hours with consistently high customer activity.\n",
    "- Recommend time slots for targeted promotions and ad placements.\n",
    "- Integrate insights into broader marketing and sales strategies."
   ]
  },
  {
   "cell_type": "markdown",
   "id": "fa0e773b-aeb0-4295-80c4-c3742d420068",
   "metadata": {},
   "source": [
    "## Importing libraries"
   ]
  },
  {
   "cell_type": "code",
   "execution_count": 9,
   "id": "48a8b6e1-fd87-4990-b226-3f906646b056",
   "metadata": {},
   "outputs": [],
   "source": [
    "import pandas as pd\n",
    "import matplotlib.pyplot as plt"
   ]
  },
  {
   "cell_type": "markdown",
   "id": "8b8878ad-0493-41a2-a3b6-2ea2f156a696",
   "metadata": {},
   "source": [
    "## Loading the clean dataframe (post-ETL process)"
   ]
  },
  {
   "cell_type": "code",
   "execution_count": 11,
   "id": "f756bb7d-9cc7-47d8-9d7c-719d8f072d8d",
   "metadata": {},
   "outputs": [],
   "source": [
    "df = pd.read_csv(\"C:\\\\Monthly_Sales\\\\cleaned_data.csv\")"
   ]
  },
  {
   "cell_type": "code",
   "execution_count": 12,
   "id": "ad726eff-813f-4eea-b852-16f61aed9132",
   "metadata": {},
   "outputs": [
    {
     "data": {
      "text/html": [
       "<div>\n",
       "<style scoped>\n",
       "    .dataframe tbody tr th:only-of-type {\n",
       "        vertical-align: middle;\n",
       "    }\n",
       "\n",
       "    .dataframe tbody tr th {\n",
       "        vertical-align: top;\n",
       "    }\n",
       "\n",
       "    .dataframe thead th {\n",
       "        text-align: right;\n",
       "    }\n",
       "</style>\n",
       "<table border=\"1\" class=\"dataframe\">\n",
       "  <thead>\n",
       "    <tr style=\"text-align: right;\">\n",
       "      <th></th>\n",
       "      <th>Order ID</th>\n",
       "      <th>Product Name</th>\n",
       "      <th>Units Purchased</th>\n",
       "      <th>Unit Price</th>\n",
       "      <th>Order Date</th>\n",
       "      <th>Delivery Address</th>\n",
       "      <th>Month</th>\n",
       "      <th>Month Name</th>\n",
       "      <th>Year</th>\n",
       "      <th>Day of Week</th>\n",
       "      <th>Hour</th>\n",
       "      <th>City</th>\n",
       "      <th>Total Sales</th>\n",
       "    </tr>\n",
       "  </thead>\n",
       "  <tbody>\n",
       "    <tr>\n",
       "      <th>0</th>\n",
       "      <td>160155</td>\n",
       "      <td>Alienware Monitor</td>\n",
       "      <td>1</td>\n",
       "      <td>400.99</td>\n",
       "      <td>2024-01-01 05:04:00</td>\n",
       "      <td>765 Ridge St, Portland, OR 97035</td>\n",
       "      <td>1</td>\n",
       "      <td>January</td>\n",
       "      <td>2024</td>\n",
       "      <td>Mon</td>\n",
       "      <td>5</td>\n",
       "      <td>Portland  (OR)</td>\n",
       "      <td>400.99</td>\n",
       "    </tr>\n",
       "    <tr>\n",
       "      <th>1</th>\n",
       "      <td>151041</td>\n",
       "      <td>AAA Batteries (4-pack)</td>\n",
       "      <td>1</td>\n",
       "      <td>4.99</td>\n",
       "      <td>2024-01-01 05:04:00</td>\n",
       "      <td>964 Lakeview St, Atlanta, GA 30301</td>\n",
       "      <td>1</td>\n",
       "      <td>January</td>\n",
       "      <td>2024</td>\n",
       "      <td>Mon</td>\n",
       "      <td>5</td>\n",
       "      <td>Atlanta  (GA)</td>\n",
       "      <td>4.99</td>\n",
       "    </tr>\n",
       "    <tr>\n",
       "      <th>2</th>\n",
       "      <td>146765</td>\n",
       "      <td>AAA Batteries (4-pack)</td>\n",
       "      <td>1</td>\n",
       "      <td>4.99</td>\n",
       "      <td>2024-01-01 05:20:00</td>\n",
       "      <td>546 10th St, San Francisco, CA 94016</td>\n",
       "      <td>1</td>\n",
       "      <td>January</td>\n",
       "      <td>2024</td>\n",
       "      <td>Mon</td>\n",
       "      <td>5</td>\n",
       "      <td>San Francisco  (CA)</td>\n",
       "      <td>4.99</td>\n",
       "    </tr>\n",
       "    <tr>\n",
       "      <th>3</th>\n",
       "      <td>145617</td>\n",
       "      <td>Amana Washing Machine</td>\n",
       "      <td>1</td>\n",
       "      <td>600.00</td>\n",
       "      <td>2024-01-01 05:24:00</td>\n",
       "      <td>961 Meadow St, Portland, OR 97035</td>\n",
       "      <td>1</td>\n",
       "      <td>January</td>\n",
       "      <td>2024</td>\n",
       "      <td>Mon</td>\n",
       "      <td>5</td>\n",
       "      <td>Portland  (OR)</td>\n",
       "      <td>600.00</td>\n",
       "    </tr>\n",
       "    <tr>\n",
       "      <th>4</th>\n",
       "      <td>156535</td>\n",
       "      <td>Lightning Charging Cable</td>\n",
       "      <td>2</td>\n",
       "      <td>14.95</td>\n",
       "      <td>2024-01-01 05:45:00</td>\n",
       "      <td>451 Elm St, Los Angeles, CA 90001</td>\n",
       "      <td>1</td>\n",
       "      <td>January</td>\n",
       "      <td>2024</td>\n",
       "      <td>Mon</td>\n",
       "      <td>5</td>\n",
       "      <td>Los Angeles  (CA)</td>\n",
       "      <td>29.90</td>\n",
       "    </tr>\n",
       "  </tbody>\n",
       "</table>\n",
       "</div>"
      ],
      "text/plain": [
       "   Order ID              Product Name  Units Purchased  Unit Price  \\\n",
       "0    160155         Alienware Monitor                1      400.99   \n",
       "1    151041    AAA Batteries (4-pack)                1        4.99   \n",
       "2    146765    AAA Batteries (4-pack)                1        4.99   \n",
       "3    145617     Amana Washing Machine                1      600.00   \n",
       "4    156535  Lightning Charging Cable                2       14.95   \n",
       "\n",
       "            Order Date                      Delivery Address  Month  \\\n",
       "0  2024-01-01 05:04:00      765 Ridge St, Portland, OR 97035      1   \n",
       "1  2024-01-01 05:04:00    964 Lakeview St, Atlanta, GA 30301      1   \n",
       "2  2024-01-01 05:20:00  546 10th St, San Francisco, CA 94016      1   \n",
       "3  2024-01-01 05:24:00     961 Meadow St, Portland, OR 97035      1   \n",
       "4  2024-01-01 05:45:00     451 Elm St, Los Angeles, CA 90001      1   \n",
       "\n",
       "  Month Name  Year Day of Week  Hour                 City  Total Sales  \n",
       "0    January  2024         Mon     5       Portland  (OR)       400.99  \n",
       "1    January  2024         Mon     5        Atlanta  (GA)         4.99  \n",
       "2    January  2024         Mon     5  San Francisco  (CA)         4.99  \n",
       "3    January  2024         Mon     5       Portland  (OR)       600.00  \n",
       "4    January  2024         Mon     5    Los Angeles  (CA)        29.90  "
      ]
     },
     "execution_count": 12,
     "metadata": {},
     "output_type": "execute_result"
    }
   ],
   "source": [
    "df.head()"
   ]
  },
  {
   "cell_type": "markdown",
   "id": "629249d1-53c1-4a97-ad2a-bcc1b3314060",
   "metadata": {},
   "source": [
    "## Plotting Hourly Purchase Trend"
   ]
  },
  {
   "cell_type": "code",
   "execution_count": 14,
   "id": "682b0e57-b8bc-4122-b0a3-15f666fd9c37",
   "metadata": {},
   "outputs": [
    {
     "name": "stdout",
     "output_type": "stream",
     "text": [
      "Hourly Purchase Counts:\n",
      "00:00 - 3806 purchases\n",
      "01:00 - 2127 purchases\n",
      "02:00 - 1181 purchases\n",
      "03:00 - 694 purchases\n",
      "04:00 - 684 purchases\n",
      "05:00 - 1178 purchases\n",
      "06:00 - 2190 purchases\n",
      "07:00 - 3700 purchases\n",
      "08:00 - 5817 purchases\n",
      "09:00 - 8093 purchases\n",
      "10:00 - 9994 purchases\n",
      "11:00 - 11407 purchases\n",
      "12:00 - 11610 purchases\n",
      "13:00 - 11220 purchases\n",
      "14:00 - 10329 purchases\n",
      "15:00 - 9663 purchases\n",
      "16:00 - 9454 purchases\n",
      "17:00 - 10059 purchases\n",
      "18:00 - 11161 purchases\n",
      "19:00 - 11774 purchases\n",
      "20:00 - 11525 purchases\n",
      "21:00 - 10239 purchases\n",
      "22:00 - 8125 purchases\n",
      "23:00 - 5750 purchases\n"
     ]
    },
    {
     "data": {
      "image/png": "[encoded data removed]",
      "text/plain": [
       "<Figure size 640x480 with 1 Axes>"
      ]
     },
     "metadata": {},
     "output_type": "display_data"
    }
   ],
   "source": [
    "# Group by 'Hour' and counting the number of occurrences\n",
    "hourly_counts = df.groupby('Hour').size()\n",
    "\n",
    "# Print out the values\n",
    "print(\"Hourly Purchase Counts:\")\n",
    "for hour, count in hourly_counts.items():\n",
    "    print(f\"{hour:02d}:00 - {count} purchases\")\n",
    "\n",
    "# Plot\n",
    "plt.plot(hourly_counts, marker='o', markerfacecolor='red', linestyle='-', color='blue')\n",
    "plt.title('Hourly Purchase Trend')\n",
    "plt.xlabel('Hour')\n",
    "plt.ylabel('Count')\n",
    "plt.xticks(range(0, 24))\n",
    "plt.grid(linewidth=0.2)\n",
    "\n",
    "plt.savefig(r\"C:/Users/DELL/OneDrive - COVENANT UNIVERSITY/Desktop/1. Retail Sales Analysis and Insights/7. Time Series Analysis.png\", dpi=300, bbox_inches='tight')\n",
    "\n",
    "plt.show()"
   ]
  },
  {
   "cell_type": "markdown",
   "id": "f3f658f9-ea81-4717-891b-b5c882cd5a8f",
   "metadata": {
    "jp-MarkdownHeadingCollapsed": true
   },
   "source": [
    "## Key Insights\n",
    "\n",
    "1. Customer activity follows a clear daily rhythm, starting low in the early morning, building momentum mid-morning, peaking in the afternoon and early evening, and tapering off gradually at night.\n",
    "\n",
    "2. Consistently high customer activity is observed between 11:00 AM and 8:00 PM, with the most significant spikes from:\n",
    "\n",
    "- 11:00 AM to 1:00 PM (Peak hours: 11 AM – 11,393; 12 PM – 11,594; 1 PM – 11,207)\n",
    "\n",
    "- 6:00 PM to 8:00 PM (Evening peak: 6 PM – 11,146; 7 PM – 11,757; 8 PM – 11,507)\n",
    "\n",
    "3. Low engagement periods are between 2:00 AM and 5:00 AM, where customer activity is minimal."
   ]
  },
  {
   "cell_type": "markdown",
   "id": "11b1047b-9805-4128-8848-22ad0fe3a651",
   "metadata": {},
   "source": [
    "## Strategic Recommendations\n",
    "\n",
    "To maximize conversions and get the most out of your ad spend:\n",
    "\n",
    "1. Targeted Promotions Strategy\n",
    "\n",
    "- Run high-budget, high-impact campaigns between 11:00 AM and 1:00 PM, when purchase intent is at its peak.\n",
    "- Complement with reminder or follow-up ads in the evening (6:00 PM – 8:00 PM) when users have more downtime.\n",
    "- Use lighter awareness-based campaigns in the morning (9:00 AM – 11:00 AM) to set the stage for peak time conversions.\n",
    "\n",
    "2. Scheduling Tactics\n",
    "\n",
    "- Segment marketing messages by hour: Informational in the morning, persuasive in the afternoon, urgency-based in the evening."
   ]
  },
  {
   "cell_type": "markdown",
   "id": "318e5d38-7a18-4c6a-b25a-1d24ba33008a",
   "metadata": {},
   "source": [
    "## Recommended Time Slots for Ads & Promotions - Based on Peak Customer Activity\n",
    "\n",
    "1. Primary Peak Block (Most Impactful):\n",
    "- 11:00 AM – 1:00 PM — Lunch-time browsing and decision-making.\n",
    "\n",
    "2. Secondary Peak Block (Evening Push):\n",
    "- 6:00 PM – 8:00 PM — After-work, relaxed shopping mindset.\n",
    "\n",
    "3. Morning Ramp-up Slot (Pre-Peak Nudge):\n",
    "- 9:00 AM – 11:00 AM — Prepping customers mentally before their lunch-time conversion."
   ]
  },
  {
   "cell_type": "code",
   "execution_count": null,
   "id": "46e7ad2f-b29e-47d2-9657-a24d596e1dc3",
   "metadata": {},
   "outputs": [],
   "source": []
  }
 ],
 "metadata": {
  "kernelspec": {
   "display_name": "Python [conda env:base] *",
   "language": "python",
   "name": "conda-base-py"
  },
  "language_info": {
   "codemirror_mode": {
    "name": "ipython",
    "version": 3
   },
   "file_extension": ".py",
   "mimetype": "text/x-python",
   "name": "python",
   "nbconvert_exporter": "python",
   "pygments_lexer": "ipython3",
   "version": "3.12.7"
  }
 },
 "nbformat": 4,
 "nbformat_minor": 5
}
