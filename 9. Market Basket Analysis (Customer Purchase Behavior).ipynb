{
 "cells": [
  {
   "cell_type": "markdown",
   "id": "aaf8cd74-11d1-46c9-adaa-2a7f057aefe8",
   "metadata": {},
   "source": [
    "#  Machine Learning-Powered Prescriptive Insights for Customer Purchase Behavior"
   ]
  },
  {
   "cell_type": "markdown",
   "id": "4eaadf1d-b694-4e44-92e6-e16075dd321e",
   "metadata": {
    "jp-MarkdownHeadingCollapsed": true
   },
   "source": [
    "##  Market Basket Analysis for Customer Purchase Insights"
   ]
  },
  {
   "cell_type": "markdown",
   "id": "434cde56-fc46-4bdb-9137-c91d42d65036",
   "metadata": {},
   "source": [
    "##  What products are frequently bought together?"
   ]
  },
  {
   "cell_type": "markdown",
   "id": "a05a3b27-e9c6-4dc5-b7a8-a13d9287af58",
   "metadata": {},
   "source": [
    "###  1. Overview\n",
    "In today’s highly competitive retail environment, understanding customer purchasing behavior is crucial for maximizing sales and enhancing customer satisfaction. This analysis implements Market Basket Analysis (MBA) using transactional data to uncover product combinations that are frequently purchased together. By applying data transformation, grouping, and combinatorial analysis, this approach enables businesses to reveal valuable product affinities that can inform cross-selling strategies, in-store placements, and promotional bundling."
   ]
  },
  {
   "cell_type": "markdown",
   "id": "a59256db-1a8e-4956-9d59-7ffb6bace60c",
   "metadata": {},
   "source": [
    "### 2. Goal\n",
    "\n",
    "- Identify frequently co-purchased products to uncover hidden patterns in customer behavior.\n",
    "- Determine the top 2-product and 3-product combinations most often bought together.\n",
    "- Generate actionable insights that can improve product placement, cross-selling opportunities, and marketing promotions.\n",
    "- Lay the groundwork for recommendation systems that can personalize customer experiences."
   ]
  },
  {
   "cell_type": "markdown",
   "id": "cc8e1532-ac41-48cb-9dda-733d492aa41c",
   "metadata": {},
   "source": [
    "###  3. Business Challenge\n",
    "\n",
    "- Lack of visibility into which products drive co-purchases.\n",
    "- Missed revenue opportunities due to ineffective product bundling.\n",
    "- Difficulty in designing targeted promotions based on real buying patterns.\n",
    "- Underperformance of campaigns due to guesswork in product relationships."
   ]
  },
  {
   "cell_type": "markdown",
   "id": "c5ef78fe-06da-46fe-8f1e-c55cb7b49393",
   "metadata": {},
   "source": [
    "###  4. Analysis Approach\n",
    "- Apply Combinatorial Analysis: Use the itertools.combinations function to find frequent 2-product and 3-product sets.\n",
    "- Aggregate & Rank: Use collections.Counter to count and sort the most common combinations.\n",
    "- Derive Insights: Identify the top 10–20 most frequent item combinations to support marketing and product placement strategies."
   ]
  },
  {
   "cell_type": "markdown",
   "id": "6c21cef7-16ab-445c-ad17-9b0e1c4ec8dc",
   "metadata": {},
   "source": [
    "### Importing libraries"
   ]
  },
  {
   "cell_type": "code",
   "execution_count": 9,
   "id": "cd457c12-3927-4cb3-80b2-6af5e7945b5f",
   "metadata": {},
   "outputs": [],
   "source": [
    "import pandas as pd\n",
    "import matplotlib.pyplot as plt"
   ]
  },
  {
   "cell_type": "markdown",
   "id": "e96e4d16-2abe-45a7-9874-d28d74b9a8b7",
   "metadata": {},
   "source": [
    "### Loading the clean dataframe (post-ETL process)"
   ]
  },
  {
   "cell_type": "code",
   "execution_count": 11,
   "id": "475adeda-6335-4c1d-8bd2-bec3a25ffb96",
   "metadata": {},
   "outputs": [],
   "source": [
    "df = pd.read_csv(\"C:\\\\Monthly_Sales\\\\cleaned_data.csv\")"
   ]
  },
  {
   "cell_type": "code",
   "execution_count": 12,
   "id": "b8b99afc-07ca-4d9f-bc5a-9c5379cef335",
   "metadata": {},
   "outputs": [
    {
     "data": {
      "text/html": [
       "<div>\n",
       "<style scoped>\n",
       "    .dataframe tbody tr th:only-of-type {\n",
       "        vertical-align: middle;\n",
       "    }\n",
       "\n",
       "    .dataframe tbody tr th {\n",
       "        vertical-align: top;\n",
       "    }\n",
       "\n",
       "    .dataframe thead th {\n",
       "        text-align: right;\n",
       "    }\n",
       "</style>\n",
       "<table border=\"1\" class=\"dataframe\">\n",
       "  <thead>\n",
       "    <tr style=\"text-align: right;\">\n",
       "      <th></th>\n",
       "      <th>Order ID</th>\n",
       "      <th>Product Name</th>\n",
       "      <th>Units Purchased</th>\n",
       "      <th>Unit Price</th>\n",
       "      <th>Order Date</th>\n",
       "      <th>Delivery Address</th>\n",
       "      <th>Month</th>\n",
       "      <th>Month Name</th>\n",
       "      <th>Year</th>\n",
       "      <th>Day of Week</th>\n",
       "      <th>Hour</th>\n",
       "      <th>City</th>\n",
       "      <th>Total Sales</th>\n",
       "    </tr>\n",
       "  </thead>\n",
       "  <tbody>\n",
       "    <tr>\n",
       "      <th>0</th>\n",
       "      <td>160155</td>\n",
       "      <td>Alienware Monitor</td>\n",
       "      <td>1</td>\n",
       "      <td>400.99</td>\n",
       "      <td>2024-01-01 05:04:00</td>\n",
       "      <td>765 Ridge St, Portland, OR 97035</td>\n",
       "      <td>1</td>\n",
       "      <td>January</td>\n",
       "      <td>2024</td>\n",
       "      <td>Mon</td>\n",
       "      <td>5</td>\n",
       "      <td>Portland  (OR)</td>\n",
       "      <td>400.99</td>\n",
       "    </tr>\n",
       "    <tr>\n",
       "      <th>1</th>\n",
       "      <td>151041</td>\n",
       "      <td>AAA Batteries (4-pack)</td>\n",
       "      <td>1</td>\n",
       "      <td>4.99</td>\n",
       "      <td>2024-01-01 05:04:00</td>\n",
       "      <td>964 Lakeview St, Atlanta, GA 30301</td>\n",
       "      <td>1</td>\n",
       "      <td>January</td>\n",
       "      <td>2024</td>\n",
       "      <td>Mon</td>\n",
       "      <td>5</td>\n",
       "      <td>Atlanta  (GA)</td>\n",
       "      <td>4.99</td>\n",
       "    </tr>\n",
       "    <tr>\n",
       "      <th>2</th>\n",
       "      <td>146765</td>\n",
       "      <td>AAA Batteries (4-pack)</td>\n",
       "      <td>1</td>\n",
       "      <td>4.99</td>\n",
       "      <td>2024-01-01 05:20:00</td>\n",
       "      <td>546 10th St, San Francisco, CA 94016</td>\n",
       "      <td>1</td>\n",
       "      <td>January</td>\n",
       "      <td>2024</td>\n",
       "      <td>Mon</td>\n",
       "      <td>5</td>\n",
       "      <td>San Francisco  (CA)</td>\n",
       "      <td>4.99</td>\n",
       "    </tr>\n",
       "    <tr>\n",
       "      <th>3</th>\n",
       "      <td>145617</td>\n",
       "      <td>Amana Washing Machine</td>\n",
       "      <td>1</td>\n",
       "      <td>600.00</td>\n",
       "      <td>2024-01-01 05:24:00</td>\n",
       "      <td>961 Meadow St, Portland, OR 97035</td>\n",
       "      <td>1</td>\n",
       "      <td>January</td>\n",
       "      <td>2024</td>\n",
       "      <td>Mon</td>\n",
       "      <td>5</td>\n",
       "      <td>Portland  (OR)</td>\n",
       "      <td>600.00</td>\n",
       "    </tr>\n",
       "    <tr>\n",
       "      <th>4</th>\n",
       "      <td>156535</td>\n",
       "      <td>Lightning Charging Cable</td>\n",
       "      <td>2</td>\n",
       "      <td>14.95</td>\n",
       "      <td>2024-01-01 05:45:00</td>\n",
       "      <td>451 Elm St, Los Angeles, CA 90001</td>\n",
       "      <td>1</td>\n",
       "      <td>January</td>\n",
       "      <td>2024</td>\n",
       "      <td>Mon</td>\n",
       "      <td>5</td>\n",
       "      <td>Los Angeles  (CA)</td>\n",
       "      <td>29.90</td>\n",
       "    </tr>\n",
       "  </tbody>\n",
       "</table>\n",
       "</div>"
      ],
      "text/plain": [
       "   Order ID              Product Name  Units Purchased  Unit Price  \\\n",
       "0    160155         Alienware Monitor                1      400.99   \n",
       "1    151041    AAA Batteries (4-pack)                1        4.99   \n",
       "2    146765    AAA Batteries (4-pack)                1        4.99   \n",
       "3    145617     Amana Washing Machine                1      600.00   \n",
       "4    156535  Lightning Charging Cable                2       14.95   \n",
       "\n",
       "            Order Date                      Delivery Address  Month  \\\n",
       "0  2024-01-01 05:04:00      765 Ridge St, Portland, OR 97035      1   \n",
       "1  2024-01-01 05:04:00    964 Lakeview St, Atlanta, GA 30301      1   \n",
       "2  2024-01-01 05:20:00  546 10th St, San Francisco, CA 94016      1   \n",
       "3  2024-01-01 05:24:00     961 Meadow St, Portland, OR 97035      1   \n",
       "4  2024-01-01 05:45:00     451 Elm St, Los Angeles, CA 90001      1   \n",
       "\n",
       "  Month Name  Year Day of Week  Hour                 City  Total Sales  \n",
       "0    January  2024         Mon     5       Portland  (OR)       400.99  \n",
       "1    January  2024         Mon     5        Atlanta  (GA)         4.99  \n",
       "2    January  2024         Mon     5  San Francisco  (CA)         4.99  \n",
       "3    January  2024         Mon     5       Portland  (OR)       600.00  \n",
       "4    January  2024         Mon     5    Los Angeles  (CA)        29.90  "
      ]
     },
     "execution_count": 12,
     "metadata": {},
     "output_type": "execute_result"
    }
   ],
   "source": [
    "df.head()"
   ]
  },
  {
   "cell_type": "markdown",
   "id": "c796ea4c-656b-440b-b8b2-59c51d0e4fc2",
   "metadata": {},
   "source": [
    "##  Top 20 product pairs most frequently ordered together"
   ]
  },
  {
   "cell_type": "code",
   "execution_count": 14,
   "id": "d04466d9-df9d-4950-b9ac-7cb961300bc0",
   "metadata": {},
   "outputs": [
    {
     "data": {
      "text/plain": [
       "[(('Google Phone', 'USB-C Charging Cable'), 473),\n",
       " (('iPhone', 'Lightning Charging Cable'), 465),\n",
       " (('USB-C Charging Cable', 'Google Phone'), 464),\n",
       " (('Lightning Charging Cable', 'iPhone'), 453),\n",
       " (('Galaxy buds Headphones', 'iPhone'), 235),\n",
       " (('iPhone', 'Galaxy buds Headphones'), 221),\n",
       " (('Galaxy buds Headphones', 'Google Phone'), 197),\n",
       " (('Google Phone', 'Galaxy buds Headphones'), 176),\n",
       " (('USB-C Charging Cable', 'Samsung Galaxy Phone'), 175),\n",
       " (('Samsung Galaxy Phone', 'USB-C Charging Cable'), 172),\n",
       " (('Apple Airpods Headphones', 'iPhone'), 164),\n",
       " (('iPhone', 'Apple Airpods Headphones'), 157),\n",
       " (('Bose SoundSport Headphones', 'Google Phone'), 107),\n",
       " (('Google Phone', 'Bose SoundSport Headphones'), 98),\n",
       " (('Galaxy buds Headphones', 'USB-C Charging Cable'), 89),\n",
       " (('USB-C Charging Cable', 'Galaxy buds Headphones'), 79),\n",
       " (('Galaxy buds Headphones', 'Samsung Galaxy Phone'), 72),\n",
       " (('Galaxy buds Headphones', 'Lightning Charging Cable'), 70),\n",
       " (('Samsung Galaxy Phone', 'Galaxy buds Headphones'), 63),\n",
       " (('Lightning Charging Cable', 'Galaxy buds Headphones'), 62)]"
      ]
     },
     "execution_count": 14,
     "metadata": {},
     "output_type": "execute_result"
    }
   ],
   "source": [
    "# Filtering rows with the same Order ID and adding .copy() to avoid SettingWithCopyWarning\n",
    "df2 = df[df['Order ID'].duplicated(keep=False)].copy()\n",
    "\n",
    "# Grouping Product Name with same Order ID\n",
    "df2['Grouped'] = df2.groupby('Order ID')['Product Name'].transform(lambda x: ','.join(x))\n",
    "\n",
    "# Droping any duplicates that may occur as a result of the grouping\n",
    "df3 = df2[['Order ID', 'Grouped']].drop_duplicates()\n",
    "\n",
    "df3.head(10)\n",
    "\n",
    "# Displaying the Top 20 Product Pairs Most Frequently Ordered Together\n",
    "from itertools import combinations\n",
    "from collections import Counter\n",
    "\n",
    "count = Counter()\n",
    "\n",
    "for row in df3['Grouped']:\n",
    "    row_list = row.split(',')\n",
    "    count.update(Counter(combinations(row_list, 2)))\n",
    "\n",
    "top_combinations = count.most_common(20)\n",
    "\n",
    "top_combinations"
   ]
  },
  {
   "cell_type": "markdown",
   "id": "a10b76d8-4ed5-4585-ac79-6ebc88d4f80c",
   "metadata": {},
   "source": [
    "## Key Insights\n",
    "\n",
    "1. Strong Accessory Dependency:\n",
    "\n",
    "- iPhone is frequently bought with the Lightning Charging Cable (465 times) and Apple AirPods Headphones (157 times), confirming a strong dependency on accessories.\n",
    "- Similar behavior observed for Google Phone and USB-C Charging Cable (473 times), and Samsung Galaxy Phone with the same cable (172 times).\n",
    "\n",
    "2. Bundling Behavior Around Devices:\n",
    "\n",
    "- Buyers often purchase phones with multiple accessories (e.g., Google Phone + USB-C Cable + Headphones combinations).\n",
    "- Example: Google Phone + USB-C Charging Cable + Bose SoundSport Headphones is a top 3-product combo.\n",
    "\n",
    "3. Cross-Brand Headphone Love:\n",
    "\n",
    "- Galaxy Buds Headphones appear frequently with iPhone, Google Phone, and Samsung Galaxy Phone, suggesting customers aren't loyal to brand-specific headphones. They mix and match based on price, design, or preference.\n",
    "\n",
    "4. Repetitive Combination Patterns:\n",
    "\n",
    "- Most of the high-frequency combinations are symmetrical (e.g., iPhone + Lightning Cable and Lightning Cable + iPhone)—reinforcing the reliability of the insight.\n",
    "\n",
    "5. Accessory-Driven Purchases:\n",
    "\n",
    "- Accessories like charging cables and headphones dominate the co-purchase behavior. These aren’t just afterthoughts—they're clearly planned purchases."
   ]
  },
  {
   "cell_type": "markdown",
   "id": "7457dc5e-2995-405a-89d5-d15a0eae8873",
   "metadata": {},
   "source": [
    "##  Strategic Recommendations\n",
    "\n",
    "1. Create Product Bundles:\n",
    "\n",
    "- Offer ready-made bundles (Example, iPhone + Lightning Cable + AirPods) with small discounts to promote upselling and convenience.\n",
    "\n",
    "\n",
    "2. Optimize Online Store Suggestions:\n",
    "\n",
    "- Implement \"Frequently Bought Together\" suggestions at checkout using the most frequent 2- and 3-product combinations.\n",
    "\n",
    "\n",
    "3. Improve In-Store Product Placement:\n",
    "\n",
    "- Place high-affinity products (Example, USB-C Cable and Google Phone) adjacent on shelves to encourage impulse add-ons.\n",
    "\n",
    "\n",
    "4. Run Targeted Promotions:\n",
    "\n",
    "- Create cross-promotion campaigns such as \"Buy a Google Phone and get 20% off USB-C Cable and Galaxy Buds.\"\n",
    "\n",
    "\n",
    "5. Inventory Forecasting:\n",
    "\n",
    "- Forecast accessory demand based on device sales, as customers are highly likely to buy them together."
   ]
  }
 ],
 "metadata": {
  "kernelspec": {
   "display_name": "Python [conda env:base] *",
   "language": "python",
   "name": "conda-base-py"
  },
  "language_info": {
   "codemirror_mode": {
    "name": "ipython",
    "version": 3
   },
   "file_extension": ".py",
   "mimetype": "text/x-python",
   "name": "python",
   "nbconvert_exporter": "python",
   "pygments_lexer": "ipython3",
   "version": "3.12.7"
  }
 },
 "nbformat": 4,
 "nbformat_minor": 5
}
