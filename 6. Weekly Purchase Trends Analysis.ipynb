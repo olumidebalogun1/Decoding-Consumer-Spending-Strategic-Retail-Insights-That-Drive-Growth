{
 "cells": [
  {
   "cell_type": "markdown",
   "id": "48e87f15-c355-421b-86da-1ad86d2108c3",
   "metadata": {},
   "source": [
    "# Exploratory Data Analysis (EDA): Descriptive Overview of Sales Data"
   ]
  },
  {
   "cell_type": "markdown",
   "id": "c7fd7fc4-61b7-44a8-9c8c-fdd9983df39e",
   "metadata": {},
   "source": [
    "##  Weekly Purchase Trends Analysis: How Buying Behavior Changes Across Days"
   ]
  },
  {
   "cell_type": "markdown",
   "id": "d8cf0f55-405d-4043-ba7c-946a85a206f4",
   "metadata": {},
   "source": [
    "### On which day of the week do customers make the most purchases?"
   ]
  },
  {
   "cell_type": "markdown",
   "id": "c41416e0-f579-44fb-9e2a-fbfacd4f9849",
   "metadata": {},
   "source": [
    "### 1. Overview\n",
    "This analysis investigates weekly purchasing behavior to identify which day of the week generates the highest customer spending. By analyzing transaction data across the seven-day week, we gain valuable insights into customer habits and uncover trends that can inform sales, staffing, and marketing strategies. The results are presented visually to clearly highlight the strongest and weakest days for business activity."
   ]
  },
  {
   "cell_type": "markdown",
   "id": "434aab7d-dead-4c89-b670-79cac7b6ee88",
   "metadata": {},
   "source": [
    "### 2. Goal\n",
    "\n",
    "- To explore and visualize customer purchasing trends by day of the week.\n",
    "- To identify which day(s) customers make the highest volume of purchases.\n",
    "- To identify low-performing days that may benefit from promotional strategies.\n",
    "- To quantify the total sales generated on each day to uncover patterns or spikes.\n",
    "- To provide data-backed insights that support demand forecasting, staffing, and promotional planning"
   ]
  },
  {
   "cell_type": "markdown",
   "id": "6a3a0cf0-3b7e-4717-84f9-42217b278858",
   "metadata": {},
   "source": [
    "###  3. Business Challenge\n",
    "\n",
    "- Lack of clarity on which days drive the highest or lowest sales, leading to ineffective resource allocation.\n",
    "- Difficulty in aligning marketing campaigns or promotional offers with peak customer activity.\n",
    "- Underutilization of workforce scheduling and inventory management due to limited insight into weekly demand trends.\n",
    "- Missed opportunities to capitalize on high-traffic days to increase revenue and customer engagement."
   ]
  },
  {
   "cell_type": "markdown",
   "id": "60f39cac-bbf7-45d9-b94e-8bac8134af45",
   "metadata": {},
   "source": [
    "###  4. Analysis Approach\n",
    "\n",
    "- Aggregate Sales Data: Group total sales by day of the week to understand daily revenue patterns.\n",
    "- Visualize the Trends: Use a clean, formatted bar chart to highlight purchase trends.\n",
    "- Reorder Days: Arrange days in chronological order (Mon–Sun) for intuitive interpretation.\n",
    "- Apply Formatting: Enhance readability through label formatting, gridlines, and static axis ticks.\n",
    "- Interpret Results: Identify peak sales day(s) and draw conclusions to inform business strategy."
   ]
  },
  {
   "cell_type": "markdown",
   "id": "fa0e773b-aeb0-4295-80c4-c3742d420068",
   "metadata": {},
   "source": [
    "## Importing libraries"
   ]
  },
  {
   "cell_type": "code",
   "execution_count": 9,
   "id": "48a8b6e1-fd87-4990-b226-3f906646b056",
   "metadata": {},
   "outputs": [],
   "source": [
    "import pandas as pd\n",
    "import matplotlib.pyplot as plt"
   ]
  },
  {
   "cell_type": "markdown",
   "id": "8b8878ad-0493-41a2-a3b6-2ea2f156a696",
   "metadata": {},
   "source": [
    "## Loading the clean dataframe (post-ETL process)"
   ]
  },
  {
   "cell_type": "code",
   "execution_count": 11,
   "id": "f8cddcc3-80f2-4a24-95e2-1edc261344fd",
   "metadata": {},
   "outputs": [],
   "source": [
    "df = pd.read_csv(\"C:\\\\Monthly_Sales\\\\cleaned_data.csv\")"
   ]
  },
  {
   "cell_type": "code",
   "execution_count": 12,
   "id": "b1f1e79a-3fc8-4004-86bb-e428026fe62f",
   "metadata": {},
   "outputs": [
    {
     "data": {
      "text/html": [
       "<div>\n",
       "<style scoped>\n",
       "    .dataframe tbody tr th:only-of-type {\n",
       "        vertical-align: middle;\n",
       "    }\n",
       "\n",
       "    .dataframe tbody tr th {\n",
       "        vertical-align: top;\n",
       "    }\n",
       "\n",
       "    .dataframe thead th {\n",
       "        text-align: right;\n",
       "    }\n",
       "</style>\n",
       "<table border=\"1\" class=\"dataframe\">\n",
       "  <thead>\n",
       "    <tr style=\"text-align: right;\">\n",
       "      <th></th>\n",
       "      <th>Order ID</th>\n",
       "      <th>Product Name</th>\n",
       "      <th>Units Purchased</th>\n",
       "      <th>Unit Price</th>\n",
       "      <th>Order Date</th>\n",
       "      <th>Delivery Address</th>\n",
       "      <th>Month</th>\n",
       "      <th>Month Name</th>\n",
       "      <th>Year</th>\n",
       "      <th>Day of Week</th>\n",
       "      <th>Hour</th>\n",
       "      <th>City</th>\n",
       "      <th>Total Sales</th>\n",
       "    </tr>\n",
       "  </thead>\n",
       "  <tbody>\n",
       "    <tr>\n",
       "      <th>0</th>\n",
       "      <td>160155</td>\n",
       "      <td>Alienware Monitor</td>\n",
       "      <td>1</td>\n",
       "      <td>400.99</td>\n",
       "      <td>2024-01-01 05:04:00</td>\n",
       "      <td>765 Ridge St, Portland, OR 97035</td>\n",
       "      <td>1</td>\n",
       "      <td>January</td>\n",
       "      <td>2024</td>\n",
       "      <td>Mon</td>\n",
       "      <td>5</td>\n",
       "      <td>Portland  (OR)</td>\n",
       "      <td>400.99</td>\n",
       "    </tr>\n",
       "    <tr>\n",
       "      <th>1</th>\n",
       "      <td>151041</td>\n",
       "      <td>AAA Batteries (4-pack)</td>\n",
       "      <td>1</td>\n",
       "      <td>4.99</td>\n",
       "      <td>2024-01-01 05:04:00</td>\n",
       "      <td>964 Lakeview St, Atlanta, GA 30301</td>\n",
       "      <td>1</td>\n",
       "      <td>January</td>\n",
       "      <td>2024</td>\n",
       "      <td>Mon</td>\n",
       "      <td>5</td>\n",
       "      <td>Atlanta  (GA)</td>\n",
       "      <td>4.99</td>\n",
       "    </tr>\n",
       "    <tr>\n",
       "      <th>2</th>\n",
       "      <td>146765</td>\n",
       "      <td>AAA Batteries (4-pack)</td>\n",
       "      <td>1</td>\n",
       "      <td>4.99</td>\n",
       "      <td>2024-01-01 05:20:00</td>\n",
       "      <td>546 10th St, San Francisco, CA 94016</td>\n",
       "      <td>1</td>\n",
       "      <td>January</td>\n",
       "      <td>2024</td>\n",
       "      <td>Mon</td>\n",
       "      <td>5</td>\n",
       "      <td>San Francisco  (CA)</td>\n",
       "      <td>4.99</td>\n",
       "    </tr>\n",
       "    <tr>\n",
       "      <th>3</th>\n",
       "      <td>145617</td>\n",
       "      <td>Amana Washing Machine</td>\n",
       "      <td>1</td>\n",
       "      <td>600.00</td>\n",
       "      <td>2024-01-01 05:24:00</td>\n",
       "      <td>961 Meadow St, Portland, OR 97035</td>\n",
       "      <td>1</td>\n",
       "      <td>January</td>\n",
       "      <td>2024</td>\n",
       "      <td>Mon</td>\n",
       "      <td>5</td>\n",
       "      <td>Portland  (OR)</td>\n",
       "      <td>600.00</td>\n",
       "    </tr>\n",
       "    <tr>\n",
       "      <th>4</th>\n",
       "      <td>156535</td>\n",
       "      <td>Lightning Charging Cable</td>\n",
       "      <td>2</td>\n",
       "      <td>14.95</td>\n",
       "      <td>2024-01-01 05:45:00</td>\n",
       "      <td>451 Elm St, Los Angeles, CA 90001</td>\n",
       "      <td>1</td>\n",
       "      <td>January</td>\n",
       "      <td>2024</td>\n",
       "      <td>Mon</td>\n",
       "      <td>5</td>\n",
       "      <td>Los Angeles  (CA)</td>\n",
       "      <td>29.90</td>\n",
       "    </tr>\n",
       "  </tbody>\n",
       "</table>\n",
       "</div>"
      ],
      "text/plain": [
       "   Order ID              Product Name  Units Purchased  Unit Price  \\\n",
       "0    160155         Alienware Monitor                1      400.99   \n",
       "1    151041    AAA Batteries (4-pack)                1        4.99   \n",
       "2    146765    AAA Batteries (4-pack)                1        4.99   \n",
       "3    145617     Amana Washing Machine                1      600.00   \n",
       "4    156535  Lightning Charging Cable                2       14.95   \n",
       "\n",
       "            Order Date                      Delivery Address  Month  \\\n",
       "0  2024-01-01 05:04:00      765 Ridge St, Portland, OR 97035      1   \n",
       "1  2024-01-01 05:04:00    964 Lakeview St, Atlanta, GA 30301      1   \n",
       "2  2024-01-01 05:20:00  546 10th St, San Francisco, CA 94016      1   \n",
       "3  2024-01-01 05:24:00     961 Meadow St, Portland, OR 97035      1   \n",
       "4  2024-01-01 05:45:00     451 Elm St, Los Angeles, CA 90001      1   \n",
       "\n",
       "  Month Name  Year Day of Week  Hour                 City  Total Sales  \n",
       "0    January  2024         Mon     5       Portland  (OR)       400.99  \n",
       "1    January  2024         Mon     5        Atlanta  (GA)         4.99  \n",
       "2    January  2024         Mon     5  San Francisco  (CA)         4.99  \n",
       "3    January  2024         Mon     5       Portland  (OR)       600.00  \n",
       "4    January  2024         Mon     5    Los Angeles  (CA)        29.90  "
      ]
     },
     "execution_count": 12,
     "metadata": {},
     "output_type": "execute_result"
    }
   ],
   "source": [
    "df.head()"
   ]
  },
  {
   "cell_type": "markdown",
   "id": "47fb6914-abce-47e1-86d6-3bc81513cbcf",
   "metadata": {},
   "source": [
    "## Plotting Daily Sales"
   ]
  },
  {
   "cell_type": "code",
   "execution_count": 14,
   "id": "a4f2ef65-b2fd-42e6-af56-b24b01680686",
   "metadata": {},
   "outputs": [
    {
     "name": "stdout",
     "output_type": "stream",
     "text": [
      "\n",
      "Daily Sales:\n",
      "Mon: $5,686,055.16\n",
      "Tue: $5,754,851.06\n",
      "Wed: $5,517,230.11\n",
      "Thu: $5,413,153.47\n",
      "Fri: $5,701,203.89\n",
      "Sat: $5,619,412.31\n",
      "Sun: $5,663,855.44\n"
     ]
    },
    {
     "data": {
      "image/png": "[encoded data removed]",
      "text/plain": [
       "<Figure size 640x480 with 1 Axes>"
      ]
     },
     "metadata": {},
     "output_type": "display_data"
    }
   ],
   "source": [
    "import matplotlib.ticker as ticker\n",
    " \n",
    "daily_sales = df.groupby('Day of Week', observed=False)['Total Sales'].sum().sort_values(ascending=False)\n",
    "daily_sales\n",
    "\n",
    "# Re- ordering the days\n",
    "day_order = ['Mon', 'Tue', 'Wed', 'Thu', 'Fri', 'Sat', 'Sun']\n",
    "daily_sales = daily_sales.reindex(day_order)\n",
    "\n",
    "# Displaying the Values\n",
    "print(\"\\nDaily Sales:\")\n",
    "for day, value in daily_sales.items():\n",
    "    print(f\"{day}: ${value:,.2f}\")\n",
    "\n",
    "# Plot\n",
    "ax = daily_sales.plot(kind='bar', title=\"Daily Sales\")\n",
    "\n",
    "ax.set_xlabel('Day of Week')\n",
    "ax.set_ylabel('Total Sales in USD ($)')\n",
    "\n",
    "ax.get_yaxis().set_major_formatter(plt.FuncFormatter(lambda x, _: f'{int(x):,}'))\n",
    "\n",
    "plt.xticks(rotation=0)\n",
    "plt.grid(linewidth=0.1)\n",
    "\n",
    "plt.savefig(r\"C:/Users/DELL/OneDrive - COVENANT UNIVERSITY/Desktop/1. Retail Sales Analysis and Insights/6. Weekly Purchase Trends Analysis.png\", dpi=300, bbox_inches='tight')\n",
    "\n",
    "plt.show()"
   ]
  },
  {
   "cell_type": "markdown",
   "id": "48dd899e-24d0-4378-a5ba-9320fb80c89c",
   "metadata": {},
   "source": [
    "##  Key Insights\n",
    "\n",
    "1. Tuesday is the peak day for customer purchases, bringing in the highest total sales of $5.75M.\n",
    "\n",
    "2. Friday and Sunday closely follow as strong performers, with sales of $5.70M and $5.66M, respectively.\n",
    "\n",
    "3. Thursday records the lowest sales volume of the week at $5.41M, suggesting it’s the least active day for purchases.\n",
    "\n",
    "4. Overall, weekday performance is fairly balanced, with a slight edge on early and late-week days (Tue & Fri).\n",
    "\n",
    "5. Weekends (Sat & Sun) remain strong, especially Sunday with $5.66M, which may reflect increased leisure-time shopping behavior\n"
   ]
  },
  {
   "cell_type": "markdown",
   "id": "55ab4b07-f956-4a2a-ad8d-10d9d115b903",
   "metadata": {},
   "source": [
    "## Strategic Recommendations\n",
    "\n",
    "1. Leverage Tuesday as a peak opportunity day: Launch new products, promotions, or campaigns on Tuesdays to capitalize on high customer engagement.\n",
    "\n",
    "2. Boost Thursday performance: Introduce limited-time deals or loyalty incentives to draw traffic and increase conversions on this underperforming day.\n",
    "\n",
    "3. Optimize operations on high-volume days: Ensure sufficient staffing, stock availability, and support coverage on Tuesday, Friday, and Sunday.\n",
    "\n",
    "4. Consider a midweek marketing strategy: Use Wednesday and Thursday to engage inactive customers with personalized offers to smooth weekly revenue peaks.\n",
    "\n",
    "5. Data-Driven Scheduling: Use this trend insight to inform marketing schedules, delivery logistics, and customer support planning.\n"
   ]
  }
 ],
 "metadata": {
  "kernelspec": {
   "display_name": "Python [conda env:base] *",
   "language": "python",
   "name": "conda-base-py"
  },
  "language_info": {
   "codemirror_mode": {
    "name": "ipython",
    "version": 3
   },
   "file_extension": ".py",
   "mimetype": "text/x-python",
   "name": "python",
   "nbconvert_exporter": "python",
   "pygments_lexer": "ipython3",
   "version": "3.12.7"
  }
 },
 "nbformat": 4,
 "nbformat_minor": 5
}
