{
 "cells": [
  {
   "cell_type": "markdown",
   "id": "48e87f15-c355-421b-86da-1ad86d2108c3",
   "metadata": {},
   "source": [
    "# Exploratory Data Analysis (EDA): Diagnosing Sales Patterns and Anomalies"
   ]
  },
  {
   "cell_type": "markdown",
   "id": "0909523c-6add-4c8e-87fd-eeda89eccfc8",
   "metadata": {},
   "source": [
    "## Monthly Sales Growth Analysis: Unveiling the Momentum"
   ]
  },
  {
   "cell_type": "markdown",
   "id": "048f127a-571d-4ad5-a5e8-1b93a6075c5c",
   "metadata": {},
   "source": [
    "## What is the percentage growth in total monthly sales over time, and how does it vary across different months?"
   ]
  },
  {
   "cell_type": "markdown",
   "id": "ec6b9a34-a50e-491e-8bee-10c6ce20f6a1",
   "metadata": {},
   "source": [
    "### 1. Overview\n",
    "\n",
    "This analysis investigates the monthly progression of total sales, focusing on identifying trends, fluctuations, and growth patterns\n",
    "across time. By calculating the percentage growth rate of sales month-over-month, we gain insights into how well the business is scaling\n",
    "and where seasonal or operational factors may be influencing performance. A dual-axis visualization enhances interpretability by \n",
    "combining total sales (bar chart) with monthly growth rates (line chart) to tell a cohesive story of revenue dynamics."
   ]
  },
  {
   "cell_type": "markdown",
   "id": "ae7af78c-bdb4-4258-bfb5-3bacb28c1c8b",
   "metadata": {},
   "source": [
    "### 2. Goal\n",
    "\n",
    "- Evaluate how total sales evolve across different months.\n",
    "- Quantify monthly sales performance through growth rates.\n",
    "- Identify high-growth and low-growth periods to spot seasonal or strategic impacts.\n",
    "- Provide visual insights that support better decision-making and business forecasting."
   ]
  },
  {
   "cell_type": "markdown",
   "id": "7f0769bc-fe93-49e8-91bd-e35fab74ccea",
   "metadata": {},
   "source": [
    "### 3. Business Challenge\n",
    "\n",
    "- Inconsistent sales performance: Management lacks clarity on why some months underperform while others spike.\n",
    "- Uncertainty in strategy execution: It’s unclear whether recent sales strategies are yielding consistent month-over-month improvements.\n",
    "- Limited visibility into growth dynamics: Without quantifying growth, it’s hard to identify whether revenue growth is sustainable\n",
    "  or driven by short-term factors."
   ]
  },
  {
   "cell_type": "markdown",
   "id": "58d6f1e2-f4a1-4b8f-811a-be636b425ff8",
   "metadata": {},
   "source": [
    "### 4. Analysis Approach\n",
    "\n",
    "- Clean and aggregate data to ensure accurate insights and avoid distorted growth metrics.\n",
    "- Perform diagnostic analysis on total monthly sales using historical data.\n",
    "- Compute and visualize month-over-month growth rates to identify patterns and anomalies.\n",
    "- Create a dual-axis plot to present both sales volume and growth trajectory in a single, intuitive visualization.\n",
    "- Translate findings into strategic recommendations, highlighting months with explosive or declining growth for targeted business actions."
   ]
  },
  {
   "cell_type": "markdown",
   "id": "3f9d852f-c9b3-484b-bbb8-afbca8e9b048",
   "metadata": {},
   "source": [
    "## Importing libraries"
   ]
  },
  {
   "cell_type": "code",
   "execution_count": 9,
   "id": "3b4d4804-0545-41be-8792-a49513378cda",
   "metadata": {},
   "outputs": [],
   "source": [
    "import pandas as pd\n",
    "import matplotlib.pyplot as plt"
   ]
  },
  {
   "cell_type": "markdown",
   "id": "f05a79aa-fe45-4ada-87e5-e9bae2c60dbc",
   "metadata": {},
   "source": [
    "##  Loading the clean dataframe (post-ETL process)"
   ]
  },
  {
   "cell_type": "code",
   "execution_count": 11,
   "id": "3d8ca6f7-2030-4116-bfd1-668a8826009d",
   "metadata": {},
   "outputs": [],
   "source": [
    "df = pd.read_csv(\"C:\\\\Monthly_Sales\\\\cleaned_data.csv\")"
   ]
  },
  {
   "cell_type": "code",
   "execution_count": 12,
   "id": "ace04a2d-61ad-4509-af0b-62db01671789",
   "metadata": {},
   "outputs": [
    {
     "data": {
      "text/html": [
       "<div>\n",
       "<style scoped>\n",
       "    .dataframe tbody tr th:only-of-type {\n",
       "        vertical-align: middle;\n",
       "    }\n",
       "\n",
       "    .dataframe tbody tr th {\n",
       "        vertical-align: top;\n",
       "    }\n",
       "\n",
       "    .dataframe thead th {\n",
       "        text-align: right;\n",
       "    }\n",
       "</style>\n",
       "<table border=\"1\" class=\"dataframe\">\n",
       "  <thead>\n",
       "    <tr style=\"text-align: right;\">\n",
       "      <th></th>\n",
       "      <th>Order ID</th>\n",
       "      <th>Product Name</th>\n",
       "      <th>Units Purchased</th>\n",
       "      <th>Unit Price</th>\n",
       "      <th>Order Date</th>\n",
       "      <th>Delivery Address</th>\n",
       "      <th>Month</th>\n",
       "      <th>Month Name</th>\n",
       "      <th>Year</th>\n",
       "      <th>Day of Week</th>\n",
       "      <th>Hour</th>\n",
       "      <th>City</th>\n",
       "      <th>Total Sales</th>\n",
       "    </tr>\n",
       "  </thead>\n",
       "  <tbody>\n",
       "    <tr>\n",
       "      <th>0</th>\n",
       "      <td>160155</td>\n",
       "      <td>Alienware Monitor</td>\n",
       "      <td>1</td>\n",
       "      <td>400.99</td>\n",
       "      <td>2024-01-01 05:04:00</td>\n",
       "      <td>765 Ridge St, Portland, OR 97035</td>\n",
       "      <td>1</td>\n",
       "      <td>January</td>\n",
       "      <td>2024</td>\n",
       "      <td>Mon</td>\n",
       "      <td>5</td>\n",
       "      <td>Portland  (OR)</td>\n",
       "      <td>400.99</td>\n",
       "    </tr>\n",
       "    <tr>\n",
       "      <th>1</th>\n",
       "      <td>151041</td>\n",
       "      <td>AAA Batteries (4-pack)</td>\n",
       "      <td>1</td>\n",
       "      <td>4.99</td>\n",
       "      <td>2024-01-01 05:04:00</td>\n",
       "      <td>964 Lakeview St, Atlanta, GA 30301</td>\n",
       "      <td>1</td>\n",
       "      <td>January</td>\n",
       "      <td>2024</td>\n",
       "      <td>Mon</td>\n",
       "      <td>5</td>\n",
       "      <td>Atlanta  (GA)</td>\n",
       "      <td>4.99</td>\n",
       "    </tr>\n",
       "    <tr>\n",
       "      <th>2</th>\n",
       "      <td>146765</td>\n",
       "      <td>AAA Batteries (4-pack)</td>\n",
       "      <td>1</td>\n",
       "      <td>4.99</td>\n",
       "      <td>2024-01-01 05:20:00</td>\n",
       "      <td>546 10th St, San Francisco, CA 94016</td>\n",
       "      <td>1</td>\n",
       "      <td>January</td>\n",
       "      <td>2024</td>\n",
       "      <td>Mon</td>\n",
       "      <td>5</td>\n",
       "      <td>San Francisco  (CA)</td>\n",
       "      <td>4.99</td>\n",
       "    </tr>\n",
       "    <tr>\n",
       "      <th>3</th>\n",
       "      <td>145617</td>\n",
       "      <td>Amana Washing Machine</td>\n",
       "      <td>1</td>\n",
       "      <td>600.00</td>\n",
       "      <td>2024-01-01 05:24:00</td>\n",
       "      <td>961 Meadow St, Portland, OR 97035</td>\n",
       "      <td>1</td>\n",
       "      <td>January</td>\n",
       "      <td>2024</td>\n",
       "      <td>Mon</td>\n",
       "      <td>5</td>\n",
       "      <td>Portland  (OR)</td>\n",
       "      <td>600.00</td>\n",
       "    </tr>\n",
       "    <tr>\n",
       "      <th>4</th>\n",
       "      <td>156535</td>\n",
       "      <td>Lightning Charging Cable</td>\n",
       "      <td>2</td>\n",
       "      <td>14.95</td>\n",
       "      <td>2024-01-01 05:45:00</td>\n",
       "      <td>451 Elm St, Los Angeles, CA 90001</td>\n",
       "      <td>1</td>\n",
       "      <td>January</td>\n",
       "      <td>2024</td>\n",
       "      <td>Mon</td>\n",
       "      <td>5</td>\n",
       "      <td>Los Angeles  (CA)</td>\n",
       "      <td>29.90</td>\n",
       "    </tr>\n",
       "  </tbody>\n",
       "</table>\n",
       "</div>"
      ],
      "text/plain": [
       "   Order ID              Product Name  Units Purchased  Unit Price  \\\n",
       "0    160155         Alienware Monitor                1      400.99   \n",
       "1    151041    AAA Batteries (4-pack)                1        4.99   \n",
       "2    146765    AAA Batteries (4-pack)                1        4.99   \n",
       "3    145617     Amana Washing Machine                1      600.00   \n",
       "4    156535  Lightning Charging Cable                2       14.95   \n",
       "\n",
       "            Order Date                      Delivery Address  Month  \\\n",
       "0  2024-01-01 05:04:00      765 Ridge St, Portland, OR 97035      1   \n",
       "1  2024-01-01 05:04:00    964 Lakeview St, Atlanta, GA 30301      1   \n",
       "2  2024-01-01 05:20:00  546 10th St, San Francisco, CA 94016      1   \n",
       "3  2024-01-01 05:24:00     961 Meadow St, Portland, OR 97035      1   \n",
       "4  2024-01-01 05:45:00     451 Elm St, Los Angeles, CA 90001      1   \n",
       "\n",
       "  Month Name  Year Day of Week  Hour                 City  Total Sales  \n",
       "0    January  2024         Mon     5       Portland  (OR)       400.99  \n",
       "1    January  2024         Mon     5        Atlanta  (GA)         4.99  \n",
       "2    January  2024         Mon     5  San Francisco  (CA)         4.99  \n",
       "3    January  2024         Mon     5       Portland  (OR)       600.00  \n",
       "4    January  2024         Mon     5    Los Angeles  (CA)        29.90  "
      ]
     },
     "execution_count": 12,
     "metadata": {},
     "output_type": "execute_result"
    }
   ],
   "source": [
    "df.head()"
   ]
  },
  {
   "cell_type": "markdown",
   "id": "8f9b288c-5452-46e3-b80c-a7626846a069",
   "metadata": {},
   "source": [
    "## Monthly Total Sales (USD) and Growth Rate (%)"
   ]
  },
  {
   "cell_type": "code",
   "execution_count": 14,
   "id": "9cc1d2f8-186c-49a4-ab3f-1c0a37f490d9",
   "metadata": {},
   "outputs": [
    {
     "data": {
      "text/html": [
       "<div>\n",
       "<style scoped>\n",
       "    .dataframe tbody tr th:only-of-type {\n",
       "        vertical-align: middle;\n",
       "    }\n",
       "\n",
       "    .dataframe tbody tr th {\n",
       "        vertical-align: top;\n",
       "    }\n",
       "\n",
       "    .dataframe thead th {\n",
       "        text-align: right;\n",
       "    }\n",
       "</style>\n",
       "<table border=\"1\" class=\"dataframe\">\n",
       "  <thead>\n",
       "    <tr style=\"text-align: right;\">\n",
       "      <th></th>\n",
       "      <th>Month Name</th>\n",
       "      <th>Total Sales</th>\n",
       "      <th>Growth Rate (%)</th>\n",
       "    </tr>\n",
       "  </thead>\n",
       "  <tbody>\n",
       "    <tr>\n",
       "      <th>0</th>\n",
       "      <td>January</td>\n",
       "      <td>4643726.50</td>\n",
       "      <td>NaN</td>\n",
       "    </tr>\n",
       "    <tr>\n",
       "      <th>1</th>\n",
       "      <td>February</td>\n",
       "      <td>1235808.22</td>\n",
       "      <td>-73.387575</td>\n",
       "    </tr>\n",
       "    <tr>\n",
       "      <th>2</th>\n",
       "      <td>March</td>\n",
       "      <td>2360571.99</td>\n",
       "      <td>91.014427</td>\n",
       "    </tr>\n",
       "    <tr>\n",
       "      <th>3</th>\n",
       "      <td>April</td>\n",
       "      <td>2621378.14</td>\n",
       "      <td>11.048430</td>\n",
       "    </tr>\n",
       "    <tr>\n",
       "      <th>4</th>\n",
       "      <td>May</td>\n",
       "      <td>2658910.61</td>\n",
       "      <td>1.431784</td>\n",
       "    </tr>\n",
       "    <tr>\n",
       "      <th>5</th>\n",
       "      <td>June</td>\n",
       "      <td>3409702.73</td>\n",
       "      <td>28.236832</td>\n",
       "    </tr>\n",
       "    <tr>\n",
       "      <th>6</th>\n",
       "      <td>July</td>\n",
       "      <td>2990650.83</td>\n",
       "      <td>-12.289983</td>\n",
       "    </tr>\n",
       "    <tr>\n",
       "      <th>7</th>\n",
       "      <td>August</td>\n",
       "      <td>3144247.72</td>\n",
       "      <td>5.135902</td>\n",
       "    </tr>\n",
       "    <tr>\n",
       "      <th>8</th>\n",
       "      <td>September</td>\n",
       "      <td>2371339.60</td>\n",
       "      <td>-24.581655</td>\n",
       "    </tr>\n",
       "    <tr>\n",
       "      <th>9</th>\n",
       "      <td>October</td>\n",
       "      <td>1760284.20</td>\n",
       "      <td>-25.768363</td>\n",
       "    </tr>\n",
       "    <tr>\n",
       "      <th>10</th>\n",
       "      <td>November</td>\n",
       "      <td>5746819.31</td>\n",
       "      <td>226.471107</td>\n",
       "    </tr>\n",
       "    <tr>\n",
       "      <th>11</th>\n",
       "      <td>December</td>\n",
       "      <td>6412321.59</td>\n",
       "      <td>11.580359</td>\n",
       "    </tr>\n",
       "  </tbody>\n",
       "</table>\n",
       "</div>"
      ],
      "text/plain": [
       "   Month Name  Total Sales  Growth Rate (%)\n",
       "0     January   4643726.50              NaN\n",
       "1    February   1235808.22       -73.387575\n",
       "2       March   2360571.99        91.014427\n",
       "3       April   2621378.14        11.048430\n",
       "4         May   2658910.61         1.431784\n",
       "5        June   3409702.73        28.236832\n",
       "6        July   2990650.83       -12.289983\n",
       "7      August   3144247.72         5.135902\n",
       "8   September   2371339.60       -24.581655\n",
       "9     October   1760284.20       -25.768363\n",
       "10   November   5746819.31       226.471107\n",
       "11   December   6412321.59        11.580359"
      ]
     },
     "execution_count": 14,
     "metadata": {},
     "output_type": "execute_result"
    }
   ],
   "source": [
    "# Deep copy to avoid modifying the original DataFrame (df)\n",
    "df_growth = df.copy(deep=True)\n",
    "\n",
    "# Defining the Proper Month Order for Chronological Sorting\n",
    "month_order = ['January', 'February', 'March', 'April', 'May', 'June', \n",
    "               'July', 'August', 'September', 'October', 'November', 'December']\n",
    "\n",
    "# Grouping by Month Name and Calculating Total Sales\n",
    "df_monthly_growth_rate = df_growth.groupby('Month Name')['Total Sales'].sum().reset_index()\n",
    "\n",
    "# Re-ordering months chronologically\n",
    "df_monthly_growth_rate['Month Name'] = pd.Categorical(df_monthly_growth_rate['Month Name'], \n",
    "                                                      categories=month_order, \n",
    "                                                      ordered=True)\n",
    "df_monthly_growth_rate = df_monthly_growth_rate.sort_values('Month Name').reset_index(drop=True)\n",
    "\n",
    "# Calculating Monthly Growth Rate (%)\n",
    "df_monthly_growth_rate['Growth Rate (%)'] = df_monthly_growth_rate['Total Sales'].pct_change() * 100\n",
    "\n",
    "df_monthly_growth_rate"
   ]
  },
  {
   "cell_type": "markdown",
   "id": "ee5db5d8-3c86-4c46-b4a8-21b8def06c2f",
   "metadata": {},
   "source": [
    "## Plotting Monthly Total Sales (USD) and Growth Rate (%)"
   ]
  },
  {
   "cell_type": "code",
   "execution_count": 16,
   "id": "50e572cb-921c-4a40-9fde-0a0993efdc36",
   "metadata": {},
   "outputs": [
    {
     "data": {
      "image/png": "[encoded data removed]",
      "text/plain": [
       "<Figure size 1000x600 with 2 Axes>"
      ]
     },
     "metadata": {},
     "output_type": "display_data"
    }
   ],
   "source": [
    "# Monthly Sales Growth Plot\n",
    "import matplotlib.ticker as ticker\n",
    "\n",
    "fig, ax1 = plt.subplots(figsize=(10, 6))\n",
    "\n",
    "# Left y-axis: Total Sales as bar chart\n",
    "ax1.bar(df_monthly_growth_rate['Month Name'].astype(str), df_monthly_growth_rate['Total Sales'], color='lightblue', label='Total Sales')\n",
    "ax1.set_xlabel('Month Name')\n",
    "ax1.set_ylabel('Total Sales in USD ($)', color='blue')\n",
    "ax1.tick_params(axis='y', labelcolor='blue')\n",
    "ax1.tick_params(axis='x', rotation=45)\n",
    "\n",
    "# Numeric and not scientific\n",
    "ax1.yaxis.set_major_formatter(ticker.FuncFormatter(lambda x, _: f'{x:,.0f}'))\n",
    "\n",
    "# Right y-axis: Growth Rate as line plot\n",
    "ax2 = ax1.twinx()\n",
    "ax2.plot(df_monthly_growth_rate['Month Name'].astype(str), df_monthly_growth_rate['Growth Rate (%)'], color='red', linestyle='--', marker='o', label='Growth Rate (%)')\n",
    "ax2.set_ylabel('Growth Rate (%)', color='red')\n",
    "ax2.tick_params(axis='y', labelcolor='red')\n",
    "ax2.yaxis.set_major_formatter(ticker.FuncFormatter(lambda y, _: f'{y:,.1f}%'))\n",
    "\n",
    "fig.suptitle('Monthly Total Sales and Growth Rate (%)', fontsize=14)\n",
    "fig.tight_layout()\n",
    "plt.grid(True, linewidth=0.2)\n",
    "\n",
    "plt.savefig(r\"C:/Users/DELL/OneDrive - COVENANT UNIVERSITY/Desktop/1. Retail Sales Analysis and Insights/2. Monthly Sales Growth Analysis.png\", dpi=300, bbox_inches='tight')\n",
    "\n",
    "plt.show()"
   ]
  },
  {
   "cell_type": "markdown",
   "id": "e01ddf32-f3e7-483b-b2f2-5dfe391bf761",
   "metadata": {
    "jp-MarkdownHeadingCollapsed": true
   },
   "source": [
    "## Key Insights\n",
    "\n",
    "1. High Volatility in Monthly Sales: The growth rates fluctuate significantly, with both steep declines (e.g., -73.39% in February, -25.77% in October) and sharp increases (e.g., +226.47% in November, +91.01% in March).\n",
    "\n",
    "2. Exceptional Growth in November: The highest sales growth occurred in Month November (+226.47%), likely due to a seasonal or promotional event. This also marks the peak in total sales ($5.75M).\n",
    "\n",
    "3. Absolute peak occurred in December ($6.41M) with sales growth of +11.58%.\n",
    "\n",
    "4. Sustained Growth Toward Year-End: Despite mid-year dips (July to October), November and December show strong recovery and surpass all previous months in both growth and absolute sales.\n",
    "\n",
    "5. Underperformance Early in the Year: February experienced a dramatic -73.39% drop from January, suggesting either a data anomaly or external factor disrupting sales continuity."
   ]
  },
  {
   "cell_type": "markdown",
   "id": "fdbe4010-bbb3-4e03-b41c-c163a0db3800",
   "metadata": {},
   "source": [
    "## Strategic Recommendations\n",
    "\n",
    "1. Investigate Sales Drop Causes: Analyze February , September, and October to determine the reasons behind sharp declines. This can uncover operational inefficiencies, seasonal patterns, or external disruptions that can be mitigated in future planning.\n",
    "\n",
    "2. Capitalize on Peak Months (November & December): Strengthen promotional activities around these high-performing months. Consider expanding festive campaigns or bundling offers to extend the momentum.\n",
    "\n",
    "3. Stabilize Mid-Year Growth: Develop a mid-year marketing boost strategy (May–September) using loyalty incentives, product refreshes, or geo-targeted ads to maintain momentum.\n",
    "\n",
    "4. Build Forecast Models: Use this growth trend as input for predictive models to anticipate low-performing months and proactively plan inventory, staffing, and promotional efforts.\n",
    "\n",
    "5. Apply Data-Driven Planning: Set monthly sales targets using historical growth data. Tailor resource allocation and budgeting based on expected performance to reduce surprises."
   ]
  }
 ],
 "metadata": {
  "kernelspec": {
   "display_name": "Python [conda env:base] *",
   "language": "python",
   "name": "conda-base-py"
  },
  "language_info": {
   "codemirror_mode": {
    "name": "ipython",
    "version": 3
   },
   "file_extension": ".py",
   "mimetype": "text/x-python",
   "name": "python",
   "nbconvert_exporter": "python",
   "pygments_lexer": "ipython3",
   "version": "3.12.7"
  }
 },
 "nbformat": 4,
 "nbformat_minor": 5
}
